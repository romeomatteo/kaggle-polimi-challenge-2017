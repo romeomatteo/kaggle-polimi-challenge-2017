{
 "cells": [
  {
   "cell_type": "code",
   "execution_count": 1,
   "metadata": {
    "collapsed": true
   },
   "outputs": [],
   "source": [
    "from pyspark import SparkContext\n",
    "import numpy as np\n",
    "import matplotlib.pyplot as pyplot\n",
    "sc = SparkContext.getOrCreate()"
   ]
  },
  {
   "cell_type": "code",
   "execution_count": 2,
   "metadata": {
    "collapsed": true
   },
   "outputs": [],
   "source": [
    "icm = sc.textFile(\"../icm.csv\")\n",
    "icm = icm.map(lambda l: l.split(','))\\\n",
    "            .filter(lambda line: line[0] != 'itemId')\\\n",
    "            .map(lambda x: (int(x[0]), int(x[1])))"
   ]
  },
  {
   "cell_type": "code",
   "execution_count": 3,
   "metadata": {},
   "outputs": [
    {
     "name": "stdout",
     "output_type": "stream",
     "text": [
      "Average features per item:  5.150338342799682\n",
      "Highest features number for an item:  40\n",
      "Lowest features number per item:  1\n"
     ]
    }
   ],
   "source": [
    "#AVG FEATURE PER ITEM\n",
    "\n",
    "featPerItem= icm.map(lambda x: (x[0],[x[1]]))\\\n",
    "                .reduceByKey(lambda x,y: x+y)\\\n",
    "                .map(lambda x:(x[0],len(x[1])))\n",
    "featNumbers = featPerItem.map(lambda x: x[1])  #Just the number of features for each item (without the item itself)\n",
    "avgFeatures = featNumbers.mean()\n",
    "maxFeatures = featNumbers.max()\n",
    "minFeatures = featNumbers.min()\n",
    "print(\"Average features per item: \", avgFeatures)\n",
    "print(\"Highest features number for an item: \", maxFeatures)\n",
    "print(\"Lowest features number per item: \", minFeatures)"
   ]
  },
  {
   "cell_type": "code",
   "execution_count": 4,
   "metadata": {},
   "outputs": [
    {
     "data": {
      "image/png": "[encoded data removed]",
      "text/plain": [
       "<matplotlib.figure.Figure at 0x7fbdac13bf98>"
      ]
     },
     "metadata": {},
     "output_type": "display_data"
    }
   ],
   "source": [
    "#Plot n° of feature - n°of items\n",
    "x=featNumbers.collect()\n",
    "NFeaturesNItems= featPerItem.map(lambda x: (x[1],1))\\\n",
    "                            .reduceByKey(lambda x,y: x+y)\\\n",
    "                            .sortBy(lambda x: x[0],ascending=True)\n",
    "NFeaturesNItems.collect()\n",
    "#Plotting\n",
    "#x=NFeaturesNItems.map(lambda x: x[0]).collect()\n",
    "#print(x)\n",
    "#y=NFeaturesNItems.map(lambda x: x[1]).collect()\n",
    "pyplot.hist(x,bins=max(x),histtype='bar')\n",
    "pyplot.xlabel(\"Number of features\")\n",
    "pyplot.ylabel(\"Frequencies\")\n",
    "pyplot.show()"
   ]
  },
  {
   "cell_type": "code",
   "execution_count": 5,
   "metadata": {
    "collapsed": true
   },
   "outputs": [],
   "source": [
    "#User/Item interactions on train set\n",
    "interactions=sc.textFile(\"../train.csv\").map(lambda x: tuple(x.split(\",\"))).filter(lambda x: \"userId\" not in x[0])\n",
    "numInteractions=interactions.count()"
   ]
  },
  {
   "cell_type": "code",
   "execution_count": 6,
   "metadata": {
    "collapsed": true
   },
   "outputs": [],
   "source": [
    "itemList = interactions.map(lambda x: x[1]).distinct()\n",
    "userList = interactions.map(lambda x: x[0]).distinct()\n",
    "numUsers = userList.count()\n",
    "numItems = itemList.count()"
   ]
  },
  {
   "cell_type": "code",
   "execution_count": 7,
   "metadata": {},
   "outputs": [
    {
     "name": "stdout",
     "output_type": "stream",
     "text": [
      "The number of intereactions is 170149\n",
      "Number of item in the trainset: 33557\n",
      "Number of user in the trainset: 15373\n",
      "Sparsity of the matrix: 99.967 %\n",
      "Avg numerber of interactions per user: 11.068041371235283\n",
      "Avg numerber of interactions per item: 5.070447298626218\n"
     ]
    }
   ],
   "source": [
    "print (\"The number of intereactions is {}\".format(numInteractions))\n",
    "print(\"Number of item in the trainset: {}\".format(numItems))\n",
    "print(\"Number of user in the trainset: {}\".format(numUsers))\n",
    "print(\"Sparsity of the matrix: {:.3f} %\".format((1-(numInteractions)/(numItems*numUsers))*100))\n",
    "print(\"Avg numerber of interactions per user: {}\".format(numInteractions/numUsers))\n",
    "print(\"Avg numerber of interactions per item: {}\".format(numInteractions/numItems))"
   ]
  },
  {
   "cell_type": "code",
   "execution_count": 10,
   "metadata": {},
   "outputs": [
    {
     "name": "stdout",
     "output_type": "stream",
     "text": [
      "User with max interactions [('14632', 1695)]\n",
      "Min interactions: 1\n",
      "Max interactions: 1695\n"
     ]
    },
    {
     "data": {
      "image/png": "[encoded data removed]",
      "text/plain": [
       "<matplotlib.figure.Figure at 0x7fbda91e19e8>"
      ]
     },
     "metadata": {},
     "output_type": "display_data"
    },
    {
     "data": {
      "image/png": "[encoded data removed]",
      "text/plain": [
       "<matplotlib.figure.Figure at 0x7fbdd1378048>"
      ]
     },
     "metadata": {},
     "output_type": "display_data"
    }
   ],
   "source": [
    "#Interaction analysis\n",
    "perUserInteractions=interactions.map(lambda x: (x[0],1)).reduceByKey(lambda x,y: x+y)\n",
    "data=perUserInteractions.map(lambda x: x[1]).collect()\n",
    "userPowa = perUserInteractions.filter(lambda x: x[1] == 1695).collect()\n",
    "print(\"User with max interactions\",userPowa)\n",
    "minInt=min(data)\n",
    "maxInt=max(data)\n",
    "print(\"Min interactions: {}\".format(minInt))\n",
    "print(\"Max interactions: {}\".format(maxInt))\n",
    "\n",
    "pyplot.figure(1)\n",
    "pyplot.hist(data,bins=np.arange(minInt,maxInt),histtype='bar')\n",
    "pyplot.axis([0,200,0,3000])\n",
    "pyplot.xlabel(\"n° of interactions\")\n",
    "pyplot.ylabel(\"n° of users\")\n",
    "pyplot.show()\n",
    "\n",
    "pyplot.figure(2)\n",
    "pyplot.hist(data,bins=np.arange(minInt,maxInt),histtype='bar')\n",
    "pyplot.axis([200,maxInt,0,3])\n",
    "pyplot.xlabel(\"n° of interactions\")\n",
    "pyplot.ylabel(\"n° of users\")\n",
    "pyplot.show()\n"
   ]
  },
  {
   "cell_type": "code",
   "execution_count": 8,
   "metadata": {},
   "outputs": [
    {
     "name": "stdout",
     "output_type": "stream",
     "text": [
      "Interactions per category\n",
      "1-5 : 10056 users\n",
      "6-10 : 2565 users\n",
      "11-30 : 1862 users\n",
      "30-50 : 360 users\n",
      ">50 : 530 users\n"
     ]
    }
   ],
   "source": [
    "#Define 3 gategories, <10 interactions ,10-50, >50\n",
    "\n",
    "def assignCategory(interactionsNumber):\n",
    "    if interactionsNumber<=5:\n",
    "        return 1\n",
    "    elif 6 <= interactionsNumber <=10:\n",
    "        return 2\n",
    "    elif 11 <= interactionsNumber <=30:\n",
    "        return 3\n",
    "    elif 30 <= interactionsNumber <=50:\n",
    "        return 4\n",
    "    else:\n",
    "        return 5\n",
    "catMap = {1:\"1-5\",2:\"6-10\",3:\"11-30\",4:\"30-50\",5:\">50\"}\n",
    "\n",
    "userCategory=perUserInteractions.map(lambda x: (assignCategory(x[1]),1)).reduceByKey(lambda x,y: x+y)\n",
    "catFreq=userCategory.takeOrdered(userCategory.count(),lambda x: x[0])\n",
    "print(\"Interactions per category\")\n",
    "for elem in catFreq:\n",
    "    print(\"{} : {} users\".format(catMap[elem[0]],elem[1]))"
   ]
  },
  {
   "cell_type": "code",
   "execution_count": 10,
   "metadata": {
    "collapsed": true
   },
   "outputs": [],
   "source": [
    "#Users on test set\n",
    "testUsers=sc.textFile(\"../target_user.csv\").filter(lambda x: \"userId\" not in x[0])\n",
    "users=userList.collect()\n",
    "numberNewUsers=testUsers.filter(lambda x: x not in users).count()"
   ]
  },
  {
   "cell_type": "code",
   "execution_count": 11,
   "metadata": {},
   "outputs": [
    {
     "name": "stdout",
     "output_type": "stream",
     "text": [
      "Number of new users: 1\n"
     ]
    }
   ],
   "source": [
    "print(\"Number of new users: {}\".format(numberNewUsers))"
   ]
  },
  {
   "cell_type": "code",
   "execution_count": null,
   "metadata": {
    "collapsed": true
   },
   "outputs": [],
   "source": []
  }
 ],
 "metadata": {
  "kernelspec": {
   "display_name": "Python 3",
   "language": "python",
   "name": "python3"
  },
  "language_info": {
   "codemirror_mode": {
    "name": "ipython",
    "version": 3
   },
   "file_extension": ".py",
   "mimetype": "text/x-python",
   "name": "python",
   "nbconvert_exporter": "python",
   "pygments_lexer": "ipython3",
   "version": "3.5.3"
  }
 },
 "nbformat": 4,
 "nbformat_minor": 2
}
