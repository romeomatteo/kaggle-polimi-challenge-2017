{
 "cells": [
  {
   "cell_type": "code",
   "execution_count": 27,
   "metadata": {
    "collapsed": true
   },
   "outputs": [],
   "source": [
    "from pyspark import SparkContext\n",
    "import numpy as np\n",
    "import matplotlib.pyplot as pyplot\n",
    "sc = SparkContext.getOrCreate()"
   ]
  },
  {
   "cell_type": "code",
   "execution_count": 28,
   "metadata": {},
   "outputs": [],
   "source": [
    "icm = sc.textFile(\"../icm.csv\")\n",
    "icm = icm.map(lambda l: l.split(','))\\\n",
    "            .filter(lambda line: line[0] != 'itemId')\\\n",
    "            .map(lambda x: (int(x[0]), int(x[1])))"
   ]
  },
  {
   "cell_type": "code",
   "execution_count": 34,
   "metadata": {},
   "outputs": [
    {
     "name": "stdout",
     "output_type": "stream",
     "text": [
      "36797\n",
      "Average features per item:  5.150338342799682\n",
      "Highest features number for an item:  40\n",
      "Lowest features number per item:  1\n",
      "36797\n"
     ]
    }
   ],
   "source": [
    "#AVG FEATURE PER ITEM\n",
    "\n",
    "featPerItem= icm.map(lambda x: (x[0],[x[1]]))\\\n",
    "                .reduceByKey(lambda x,y: x+y)\\\n",
    "                .map(lambda x:(x[0],len(x[1])))\n",
    "featNumbers = featPerItem.map(lambda x: x[1])  #Just the number of features for each item (without the item itself)\n",
    "print(featNumbers.count())\n",
    "avgFeatures = featNumbers.mean()\n",
    "maxFeatures = featNumbers.max()\n",
    "minFeatures = featNumbers.min()\n",
    "print(\"Average features per item: \", avgFeatures)\n",
    "print(\"Highest features number for an item: \", maxFeatures)\n",
    "print(\"Lowest features number per item: \", minFeatures)\n",
    "print(featNumbers.count())"
   ]
  },
  {
   "cell_type": "code",
   "execution_count": 43,
   "metadata": {},
   "outputs": [
    {
     "data": {
      "image/png": "[encoded data removed]",
      "text/plain": [
       "<matplotlib.figure.Figure at 0x1ef01434be0>"
      ]
     },
     "metadata": {},
     "output_type": "display_data"
    }
   ],
   "source": [
    "#Plot n° of feature - n°of items\n",
    "x=featNumbers.collect()\n",
    "NFeaturesNItems= featPerItem.map(lambda x: (x[1],1))\\\n",
    "                            .reduceByKey(lambda x,y: x+y)\\\n",
    "                            .sortBy(lambda x: x[0],ascending=True)\n",
    "NFeaturesNItems.collect()\n",
    "#Plotting\n",
    "#x=NFeaturesNItems.map(lambda x: x[0]).collect()\n",
    "#print(x)\n",
    "#y=NFeaturesNItems.map(lambda x: x[1]).collect()\n",
    "pyplot.hist(x,bins=max(x),histtype='bar')\n",
    "pyplot.xlabel(\"Number of features\")\n",
    "pyplot.ylabel(\"Frequencies\")\n",
    "pyplot.show()"
   ]
  },
  {
   "cell_type": "code",
   "execution_count": null,
   "metadata": {
    "collapsed": true
   },
   "outputs": [],
   "source": []
  },
  {
   "cell_type": "code",
   "execution_count": null,
   "metadata": {
    "collapsed": true
   },
   "outputs": [],
   "source": []
  }
 ],
 "metadata": {
  "kernelspec": {
   "display_name": "py35-spark",
   "language": "python",
   "name": "py35"
  },
  "language_info": {
   "codemirror_mode": {
    "name": "ipython",
    "version": 3
   },
   "file_extension": ".py",
   "mimetype": "text/x-python",
   "name": "python",
   "nbconvert_exporter": "python",
   "pygments_lexer": "ipython3",
   "version": "3.5.3"
  }
 },
 "nbformat": 4,
 "nbformat_minor": 2
}
