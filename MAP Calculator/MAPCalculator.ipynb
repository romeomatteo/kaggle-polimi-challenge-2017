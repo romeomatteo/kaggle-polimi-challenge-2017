{
 "cells": [
  {
   "cell_type": "code",
   "execution_count": 1,
   "metadata": {
    "collapsed": true
   },
   "outputs": [],
   "source": [
    "from pyspark import SparkContext , SparkConf\n",
    "from pyspark.sql import SparkSession\n",
    "import numpy as np\n",
    "sc = SparkContext.getOrCreate()"
   ]
  },
  {
   "cell_type": "code",
   "execution_count": 8,
   "metadata": {
    "collapsed": true
   },
   "outputs": [],
   "source": [
    "trainPath=\"../train.csv\"\n",
    "predictionPath=\"../../../Downloads/predictionsCollViaContentNoSeen.csv\""
   ]
  },
  {
   "cell_type": "code",
   "execution_count": 9,
   "metadata": {
    "collapsed": true
   },
   "outputs": [],
   "source": [
    "def ap(RankedList, PositiveItems, at=None):\n",
    "    \"\"\"\n",
    "    Calculates AP@_ \n",
    "    \"\"\"\n",
    "    if(len(PositiveItems)==0):\n",
    "        return 0\n",
    "    print(\"Recomended: \", RankedList)\n",
    "    RankedList = RankedList[:at]\n",
    "    is_relevant = np.in1d(RankedList, PositiveItems, assume_unique=True)\n",
    "    print(\"Positives: \", PositiveItems)\n",
    "    print(\"is_relevant: \", is_relevant)   \n",
    "    p_at_k = is_relevant * np.cumsum(is_relevant, dtype=np.float32) / (1 + np.arange(len(is_relevant)))\n",
    "    print(\"P at k :\" , p_at_k)\n",
    "    map_score = np.sum(p_at_k) / np.min([len(PositiveItems), len(RankedList)])\n",
    "    print(map_score)\n",
    "    assert 0 <= map_score <= 1, map_score\n",
    "    \n",
    "    return map_score"
   ]
  },
  {
   "cell_type": "code",
   "execution_count": 12,
   "metadata": {
    "collapsed": false
   },
   "outputs": [],
   "source": [
    "#compute relevants\n",
    "trainSet = sc.textFile(trainPath)\n",
    "trainSet = trainSet.map(lambda l: l.split(','))\n",
    "trainSet = trainSet.filter(lambda line: 'userId' not in line)\n",
    "trainSet = trainSet.map(lambda line: (int(line[0]), int(line[1]), float(line[2])))\n",
    "relevantsPerUser = trainSet.filter(lambda line: line[2] >= 8)\\\n",
    "                            .map(lambda line: (line[0], [line[1]]))\\\n",
    "                            .reduceByKey(lambda x, y: x + y)\n",
    "relevantsDict = relevantsPerUser.collectAsMap()"
   ]
  },
  {
   "cell_type": "code",
   "execution_count": 13,
   "metadata": {
    "collapsed": false
   },
   "outputs": [
    {
     "data": {
      "text/plain": [
       "[(4, ['25656', '23217', '32578', '17380', '28102']),\n",
       " (5, ['17815', '2164', '22211', '15743', '33755']),\n",
       " (8, ['13473', '25421', '20407', '28102', '36853']),\n",
       " (9, ['3674', '31444', '30287', '21867', '34390']),\n",
       " (13, ['9855', '15469', '5861', '23137', '22870'])]"
      ]
     },
     "execution_count": 13,
     "metadata": {},
     "output_type": "execute_result"
    }
   ],
   "source": [
    "#compute recsRDD\n",
    "\n",
    "recomendations = sc.textFile(predictionPath)\n",
    "recomendations = recomendations.map(lambda l: l.split(','))\n",
    "recomendations = recomendations.filter(lambda l: 'userId' not in l)\n",
    "recomendations = recomendations.map(lambda x: (int(x[0]),x[1].split(\" \")[:5]))\n",
    "recomendations.take(5)"
   ]
  },
  {
   "cell_type": "code",
   "execution_count": 14,
   "metadata": {
    "collapsed": false
   },
   "outputs": [
    {
     "data": {
      "text/plain": [
       "[(4, [25656, 23217, 32578, 17380, 28102]),\n",
       " (5, [17815, 2164, 22211, 15743, 33755]),\n",
       " (8, [13473, 25421, 20407, 28102, 36853]),\n",
       " (9, [3674, 31444, 30287, 21867, 34390]),\n",
       " (13, [9855, 15469, 5861, 23137, 22870])]"
      ]
     },
     "execution_count": 14,
     "metadata": {},
     "output_type": "execute_result"
    }
   ],
   "source": [
    "recomendations = recomendations.map(lambda x: (x[0],list(map(lambda y: int(y),x[1]))))\n",
    "recomendations.take(5)"
   ]
  },
  {
   "cell_type": "code",
   "execution_count": 15,
   "metadata": {
    "collapsed": false
   },
   "outputs": [
    {
     "name": "stdout",
     "output_type": "stream",
     "text": [
      "MAP@5: 0.5305115983476324\n"
     ]
    }
   ],
   "source": [
    "MAP = recomendations.map(lambda x: ap(x[1], relevantsDict.get(x[0],[]), at=5))\n",
    "MapV = MAP.sum() / MAP.count()\n",
    "print(\"MAP@5: {}\".format(MapV))"
   ]
  },
  {
   "cell_type": "code",
   "execution_count": null,
   "metadata": {
    "collapsed": true
   },
   "outputs": [],
   "source": []
  }
 ],
 "metadata": {
  "kernelspec": {
   "display_name": "py35-spark",
   "language": "python",
   "name": "py35"
  },
  "language_info": {
   "codemirror_mode": {
    "name": "ipython",
    "version": 3
   },
   "file_extension": ".py",
   "mimetype": "text/x-python",
   "name": "python",
   "nbconvert_exporter": "python",
   "pygments_lexer": "ipython3",
   "version": "3.5.3"
  }
 },
 "nbformat": 4,
 "nbformat_minor": 2
}
