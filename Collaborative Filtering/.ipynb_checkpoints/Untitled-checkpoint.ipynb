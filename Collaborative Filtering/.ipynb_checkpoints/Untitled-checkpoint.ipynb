{
 "cells": [
  {
   "cell_type": "code",
   "execution_count": 63,
   "metadata": {
    "collapsed": true
   },
   "outputs": [],
   "source": [
    "#IMPORTS\n",
    "import sys\n",
    "from collections import defaultdict\n",
    "from itertools import combinations\n",
    "import random\n",
    "import numpy as np\n",
    "import pdb\n",
    "\n",
    "from pyspark import SparkContext\n",
    "sc=SparkContext.getOrCreate()\n",
    "\n",
    "#FUNCTIONS\n",
    "\n",
    "def parseVectorOnUser(line):\n",
    "    '''\n",
    "    Parse each line of the specified data file, assuming a \",\" delimiter.\n",
    "    Key is user_id, converts each rating to a float.\n",
    "    '''\n",
    "    line = line.split(\",\")\n",
    "    return int(line[0]),(int(line[1]),float(line[2]))\n",
    "\n",
    "def parseVectorOnItem(line):\n",
    "    '''\n",
    "    Parse each line of the specified data file, assuming a \",\" delimiter.\n",
    "    Key is item_id, converts each rating to a float.\n",
    "    '''\n",
    "    line = line.split(\",\")\n",
    "    return line[1],(line[0],float(line[2]))\n",
    "\n",
    "def sampleInteractions(item_id,users_with_rating,n):\n",
    "    '''\n",
    "    For items with # interactions > n, replace their interaction history\n",
    "    with a sample of n users_with_rating\n",
    "    '''\n",
    "    if len(users_with_rating) > n:\n",
    "        return item_id, random.sample(users_with_rating,n)\n",
    "    else:\n",
    "        return item_id, users_with_rating\n",
    "\n",
    "def findUserPairs(item_id,users_with_rating):\n",
    "    '''\n",
    "    For each item, find all user-user pairs combos. (i.e. users with the same item) \n",
    "    '''\n",
    "    for user1,user2 in combinations(users_with_rating,2):\n",
    "        return (user1[0],user2[0]),(user1[1],user2[1])\n"
   ]
  },
  {
   "cell_type": "code",
   "execution_count": 64,
   "metadata": {},
   "outputs": [
    {
     "ename": "SyntaxError",
     "evalue": "invalid syntax (<ipython-input-64-cd54d7282678>, line 6)",
     "output_type": "error",
     "traceback": [
      "\u001b[1;36m  File \u001b[1;32m\"<ipython-input-64-cd54d7282678>\"\u001b[1;36m, line \u001b[1;32m6\u001b[0m\n\u001b[1;33m    testSet=sc.parallelize((0,(2,1.0)),(0,(0,4.0)),(1,(0,1.0)),(1,(1,3.0)),(1,(2,3.0)),(1,(3,4.0)),(2,(0,2.0)),(2,(1,4.0)),(3,(1,5.0)),(3,(3,8.0))])\u001b[0m\n\u001b[1;37m                                                                                                                                                  ^\u001b[0m\n\u001b[1;31mSyntaxError\u001b[0m\u001b[1;31m:\u001b[0m invalid syntax\n"
     ]
    }
   ],
   "source": [
    "'''\n",
    "trainSet = sc.textFile(\"../train.csv\").filter(lambda x: \"userId\" not in x)\n",
    "trainSet = trainSet.map(parseVectorOnUser)\n",
    "trainSet.take(5)\n",
    "'''\n",
    "testSet=sc.parallelize((0,(2,1.0)),(0,(0,4.0)),(1,(0,1.0)),(1,(1,3.0)),(1,(2,3.0)),(1,(3,4.0)),(2,(0,2.0)),(2,(1,4.0)),(3,(1,5.0)),(3,(3,8.0)))"
   ]
  },
  {
   "cell_type": "code",
   "execution_count": 65,
   "metadata": {},
   "outputs": [
    {
     "name": "stdout",
     "output_type": "stream",
     "text": [
      "All the test set\n"
     ]
    },
    {
     "data": {
      "text/plain": [
       "[(0, (2, 1.0)), (0, (0, 4.0)), (1, (0, 1.0)), (1, (1, 3.0)), (1, (2, 3.0))]"
      ]
     },
     "execution_count": 65,
     "metadata": {},
     "output_type": "execute_result"
    }
   ],
   "source": [
    "print(\"All the test set\")\n",
    "testSet.take(5)"
   ]
  },
  {
   "cell_type": "code",
   "execution_count": 66,
   "metadata": {},
   "outputs": [
    {
     "name": "stdout",
     "output_type": "stream",
     "text": [
      "Testset grouped by key\n",
      "[(0, [(2, 1.0), (0, 4.0)]), (1, [(0, 1.0), (1, 3.0), (2, 3.0), (3, 4.0)]), (2, [(0, 2.0), (1, 4.0)]), (3, [(1, 5.0), (3, 8.0)])]\n"
     ]
    }
   ],
   "source": [
    "print(\"Testset grouped by key\")\n",
    "testSetToPrint=testSet.groupByKey()\\\n",
    "                .map(lambda x: (x[0],list(x[1])))\n",
    "print(testSetToPrint.collect())\n",
    "item_user_pairs=testSet.groupByKey().cache()"
   ]
  },
  {
   "cell_type": "code",
   "execution_count": 67,
   "metadata": {},
   "outputs": [
    {
     "data": {
      "text/plain": [
       "[None, None, None, None]"
      ]
     },
     "execution_count": 67,
     "metadata": {},
     "output_type": "execute_result"
    }
   ],
   "source": [
    "#only consider item with more than 1 interaciton\n",
    "pairwise_users = item_user_pairs.filter(\n",
    "        lambda p: len(p[1]) > 1).map(\n",
    "        lambda p: findUserPairs(p[0],p[1])) #p[0] is the item, p[1] is the list of users \n",
    "\n",
    "pairwise_users.collect()"
   ]
  },
  {
   "cell_type": "code",
   "execution_count": 52,
   "metadata": {},
   "outputs": [
    {
     "name": "stdout",
     "output_type": "stream",
     "text": [
      "((0, 1.0), (1, 3.0))\n",
      "((0, 1.0), (2, 3.0))\n",
      "((0, 1.0), (3, 4.0))\n",
      "((1, 3.0), (2, 3.0))\n",
      "((1, 3.0), (3, 4.0))\n",
      "((2, 3.0), (3, 4.0))\n"
     ]
    }
   ],
   "source": [
    "c=combinations([(0, 1.0), (1, 3.0), (2, 3.0), (3, 4.0)],2)\n",
    "for el in c:\n",
    "    print(el)"
   ]
  },
  {
   "cell_type": "code",
   "execution_count": null,
   "metadata": {
    "collapsed": true
   },
   "outputs": [],
   "source": []
  }
 ],
 "metadata": {
  "kernelspec": {
   "display_name": "py35-spark",
   "language": "python",
   "name": "py35"
  },
  "language_info": {
   "codemirror_mode": {
    "name": "ipython",
    "version": 3
   },
   "file_extension": ".py",
   "mimetype": "text/x-python",
   "name": "python",
   "nbconvert_exporter": "python",
   "pygments_lexer": "ipython3",
   "version": "3.5.3"
  }
 },
 "nbformat": 4,
 "nbformat_minor": 2
}
