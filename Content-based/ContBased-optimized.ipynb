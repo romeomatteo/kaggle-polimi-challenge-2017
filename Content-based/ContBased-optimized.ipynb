{
 "cells": [
  {
   "cell_type": "code",
   "execution_count": 2,
   "metadata": {
    "collapsed": true
   },
   "outputs": [],
   "source": [
    "from pyspark import SparkContext\n",
    "from pyspark.sql import SparkSession\n",
    "import numpy as np\n",
    "from pyspark.mllib.linalg.distributed import *\n",
    "from pyspark.mllib.linalg import *\n",
    "from scipy.sparse import *\n",
    "sc = SparkContext.getOrCreate()\n",
    "spark = SparkSession(sc)"
   ]
  },
  {
   "cell_type": "code",
   "execution_count": 3,
   "metadata": {
    "collapsed": true
   },
   "outputs": [],
   "source": [
    "icm = sc.textFile(\"../icm.csv\")\n",
    "icm = icm.map(lambda l: l.split(','))\\\n",
    "            .filter(lambda line: line[0] != 'itemId')\\\n",
    "            .map(lambda x: (int(x[0]), int(x[1]), 1))\n",
    "trainSet = sc.textFile(\"../train.csv\")\n",
    "trainSet = trainSet.map(lambda l: l.split(','))\n",
    "trainSet = trainSet.filter(lambda line: 'userId' not in line)\n",
    "trainSet = trainSet.map(lambda line: (int(line[0]), int(line[1]), int(line[2])))\n",
    "\n",
    "norms = icm.map(lambda x: (x[0],1))\\\n",
    "                .reduceByKey(lambda x, y: x+y).mapValues(lambda x: np.sqrt(x))\\\n",
    "                .collectAsMap()\n",
    "\n",
    "normalized = icm.map(lambda x: (x[0], x[1], x[2]/norms[x[0]]))\n",
    "featureFreq = icm.map(lambda x: (x[1],1)).reduceByKey(lambda x, y: x + y)\n",
    "featureFreqDict = featureFreq.collectAsMap()\n",
    "prodCount= icm.map(lambda x: x[0]).distinct().count()\n",
    "featureIdf = featureFreq.map(lambda x: (x[0],np.log10(prodCount/x[1])))\n",
    "featureIdfDict = featureIdf.collectAsMap()"
   ]
  },
  {
   "cell_type": "code",
   "execution_count": 4,
   "metadata": {},
   "outputs": [
    {
     "data": {
      "text/plain": [
       "(37143, 19716)"
      ]
     },
     "execution_count": 4,
     "metadata": {},
     "output_type": "execute_result"
    }
   ],
   "source": [
    "data = trainSet.map(lambda x: x[2]).collect()\n",
    "rows = trainSet.map(lambda x: x[0]).collect()\n",
    "cols = trainSet.map(lambda x: x[1]).collect()\n",
    "userItem=csr_matrix((data,(rows,cols)))\n",
    "data = normalized.map(lambda x: x[2]).collect()\n",
    "rows = normalized.map(lambda x: x[0]).collect()\n",
    "cols = normalized.map(lambda x: x[1]).collect()\n",
    "data.append(0)\n",
    "rows.append(37142)\n",
    "cols.append(80)\n",
    "itemFeature = csc_matrix((data,(rows,cols)))\n",
    "itemFeature.shape"
   ]
  },
  {
   "cell_type": "code",
   "execution_count": 5,
   "metadata": {},
   "outputs": [
    {
     "data": {
      "text/plain": [
       "(15375, 19716)"
      ]
     },
     "execution_count": 5,
     "metadata": {},
     "output_type": "execute_result"
    }
   ],
   "source": [
    "userFeature = userItem.dot(itemFeature)\n",
    "userFeature.shape"
   ]
  },
  {
   "cell_type": "code",
   "execution_count": 6,
   "metadata": {},
   "outputs": [
    {
     "data": {
      "text/plain": [
       "(19716, 19716)"
      ]
     },
     "execution_count": 6,
     "metadata": {},
     "output_type": "execute_result"
    }
   ],
   "source": [
    "data = []\n",
    "rows = []\n",
    "cols = []\n",
    "for f in featureIdfDict.keys():\n",
    "    data.append(featureIdfDict[f])\n",
    "    cols.append(f)\n",
    "    rows.append(f)\n",
    "featureIdf = csr_matrix((data,(rows,cols)))\n",
    "featureIdf.shape"
   ]
  },
  {
   "cell_type": "code",
   "execution_count": 7,
   "metadata": {},
   "outputs": [
    {
     "data": {
      "text/plain": [
       "(15375, 37143)"
      ]
     },
     "execution_count": 7,
     "metadata": {},
     "output_type": "execute_result"
    }
   ],
   "source": [
    "userProfile = userFeature.dot(featureIdf)\n",
    "prediction = userProfile.dot(itemFeature.transpose())\n",
    "prediction.shape"
   ]
  },
  {
   "cell_type": "code",
   "execution_count": 8,
   "metadata": {},
   "outputs": [
    {
     "name": "stdout",
     "output_type": "stream",
     "text": [
      "0.771355602867\n",
      "2.95764675607\n"
     ]
    }
   ],
   "source": [
    "print(prediction.getrow(4).toarray()[0][1])\n",
    "print(prediction.getrow(4).toarray()[0][2])"
   ]
  },
  {
   "cell_type": "code",
   "execution_count": 13,
   "metadata": {},
   "outputs": [
    {
     "name": "stdout",
     "output_type": "stream",
     "text": [
      "(12535, 18.652665545838573)\n",
      "(4223, 13.12635525344616)\n",
      "(11554, 13.12635525344616)\n",
      "(20532, 13.00817618709717)\n",
      "(19267, 12.695308889326265)\n"
     ]
    }
   ],
   "source": [
    "seenItems= trainSet.map(lambda x: (x[0],[x[1]])).reduceByKey(lambda x,y: x + y)\n",
    "seenItemsDict=seenItems.collectAsMap()\n",
    "seenItemsDict[100]\n",
    "row = prediction.getrow(100).toarray()[0]\n",
    "user100 = []\n",
    "for i in range(0,len(row)):\n",
    "    if i not in seenItemsDict[100]:\n",
    "        user100.append((i, row[i]))\n",
    "user100.sort(key = lambda x: -x[1])\n",
    "print(user[0])\n",
    "print(user[1])\n",
    "print(user[2])\n",
    "print(user[3])\n",
    "print(user[4])"
   ]
  },
  {
   "cell_type": "code",
   "execution_count": null,
   "metadata": {
    "collapsed": true
   },
   "outputs": [],
   "source": []
  }
 ],
 "metadata": {
  "kernelspec": {
   "display_name": "Python 3",
   "language": "python",
   "name": "python3"
  }
 },
 "nbformat": 4,
 "nbformat_minor": 2
}
