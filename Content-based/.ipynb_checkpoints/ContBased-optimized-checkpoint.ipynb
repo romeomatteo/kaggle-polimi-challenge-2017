{
 "cells": [
  {
   "cell_type": "code",
   "execution_count": 22,
   "metadata": {
    "collapsed": true
   },
   "outputs": [],
   "source": [
    "from pyspark import SparkContext\n",
    "from pyspark.sql import SparkSession\n",
    "import numpy as np\n",
    "from pyspark.mllib.linalg.distributed import *\n",
    "from pyspark.mllib.linalg import *\n",
    "sc = SparkContext.getOrCreate()\n",
    "spark = SparkSession(sc)"
   ]
  },
  {
   "cell_type": "code",
   "execution_count": 23,
   "metadata": {
    "collapsed": true
   },
   "outputs": [],
   "source": [
    "icm = sc.textFile(\"../icm.csv\")\n",
    "icm = icm.map(lambda l: l.split(','))\\\n",
    "            .filter(lambda line: line[0] != 'itemId')\\\n",
    "            .map(lambda x: (int(x[0]), int(x[1]), 1))\n",
    "newRow=sc.parallelize([(37142,80,0)])\n",
    "icm=icm.union(newRow)\n",
    "trainSet = sc.textFile(\"../train.csv\")\n",
    "trainSet = trainSet.map(lambda l: l.split(','))\n",
    "trainSet = trainSet.filter(lambda line: 'userId' not in line)\n",
    "trainSet = trainSet.map(lambda line: (int(line[0]), int(line[1]), int(line[2]))) "
   ]
  },
  {
   "cell_type": "code",
   "execution_count": 24,
   "metadata": {
    "collapsed": true
   },
   "outputs": [],
   "source": [
    "sparseFeatures=CoordinateMatrix(icm)\n",
    "sparseUsersItem=CoordinateMatrix(trainSet).toBlockMatrix()"
   ]
  },
  {
   "cell_type": "code",
   "execution_count": 25,
   "metadata": {
    "collapsed": true
   },
   "outputs": [],
   "source": [
    "indRows=sparseFeatures.toIndexedRowMatrix().rows"
   ]
  },
  {
   "cell_type": "code",
   "execution_count": 26,
   "metadata": {},
   "outputs": [
    {
     "data": {
      "text/plain": [
       "[IndexedRow(22950, (19716,[6938,11584,13484,18904],[0.5,0.5,0.5,0.5])),\n",
       " IndexedRow(18624, (19716,[3284,5787,16215],[0.57735026919,0.57735026919,0.57735026919])),\n",
       " IndexedRow(20484, (19716,[2405,2803,2844,9733,17270,18904],[0.408248290464,0.408248290464,0.408248290464,0.408248290464,0.408248290464,0.408248290464]))]"
      ]
     },
     "execution_count": 26,
     "metadata": {},
     "output_type": "execute_result"
    }
   ],
   "source": [
    "def normalize(indexRow):\n",
    "    length=len(indexRow.vector.values)\n",
    "    indexRow.vector.values=np.array(list(map(lambda x: x/np.sqrt(length),indexRow.vector.values)))\n",
    "    return indexRow\n",
    "\n",
    "indRowsMapped=indRows.map(normalize)\n",
    "indRowsMapped.take(3)"
   ]
  },
  {
   "cell_type": "code",
   "execution_count": 27,
   "metadata": {},
   "outputs": [
    {
     "data": {
      "text/plain": [
       "[IndexedRow(2, (19716,[9004,9857,15230,15634,18904,19606],[0.408248290464,0.408248290464,0.408248290464,0.408248290464,0.408248290464,0.408248290464]))]"
      ]
     },
     "execution_count": 27,
     "metadata": {},
     "output_type": "execute_result"
    }
   ],
   "source": [
    "indRowsMapped.filter(lambda x: x.index==2).take(5)"
   ]
  },
  {
   "cell_type": "code",
   "execution_count": 28,
   "metadata": {
    "collapsed": true
   },
   "outputs": [],
   "source": [
    "sparseFeatures=IndexedRowMatrix(indRowsMapped)\n",
    "sparseFeaturesBlock=sparseFeatures.toBlockMatrix()"
   ]
  },
  {
   "cell_type": "code",
   "execution_count": 29,
   "metadata": {},
   "outputs": [
    {
     "name": "stdout",
     "output_type": "stream",
     "text": [
      "User - item: 15375x37143\n",
      "\n",
      "item - feature: 37143x19716\n",
      "\n"
     ]
    }
   ],
   "source": [
    "print(\"User - item: {}x{}\\n\".format(sparseUsersItem.numRows(),sparseUsersItem.numCols()))\n",
    "print(\"item - feature: {}x{}\\n\".format(sparseFeaturesBlock.numRows(),sparseFeaturesBlock.numCols()))"
   ]
  },
  {
   "cell_type": "markdown",
   "metadata": {},
   "source": [
    "#### Got a problem! seems that item in first matrix are less than in second matrix "
   ]
  },
  {
   "cell_type": "code",
   "execution_count": 30,
   "metadata": {},
   "outputs": [
    {
     "name": "stdout",
     "output_type": "stream",
     "text": [
      "Max item id (trainSet): 37142\n",
      "Max item id (icm): 37142\n"
     ]
    }
   ],
   "source": [
    "print(\"Max item id (trainSet): {}\".format(trainSet.map(lambda x: x[1]).max()))\n",
    "print(\"Max item id (icm): {}\".format(icm.map(lambda x: x[0]).max()))"
   ]
  },
  {
   "cell_type": "code",
   "execution_count": 31,
   "metadata": {
    "collapsed": true
   },
   "outputs": [],
   "source": [
    "userProfiles=sparseUsersItem.multiply(sparseFeaturesBlock)"
   ]
  },
  {
   "cell_type": "code",
   "execution_count": 32,
   "metadata": {},
   "outputs": [
    {
     "name": "stdout",
     "output_type": "stream",
     "text": [
      "User - feature: 15375x19716\n",
      "\n"
     ]
    }
   ],
   "source": [
    "print(\"User - feature: {}x{}\\n\".format(userProfiles.numRows(),userProfiles.numCols()))"
   ]
  }
 ],
 "metadata": {
  "kernelspec": {
   "display_name": "py35-spark",
   "language": "python",
   "name": "py35"
  },
  "language_info": {
   "codemirror_mode": {
    "name": "ipython",
    "version": 3
   },
   "file_extension": ".py",
   "mimetype": "text/x-python",
   "name": "python",
   "nbconvert_exporter": "python",
   "pygments_lexer": "ipython3",
   "version": "3.5.3"
  }
 },
 "nbformat": 4,
 "nbformat_minor": 2
}
