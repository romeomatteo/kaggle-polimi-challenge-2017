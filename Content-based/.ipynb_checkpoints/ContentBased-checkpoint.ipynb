{
 "cells": [
  {
   "cell_type": "code",
   "execution_count": 1,
   "metadata": {},
   "outputs": [],
   "source": [
    "from pyspark import SparkContext\n",
    "import numpy as np\n",
    "sc = SparkContext.getOrCreate()"
   ]
  },
  {
   "cell_type": "code",
   "execution_count": 2,
   "metadata": {},
   "outputs": [
    {
     "data": {
      "text/plain": [
       "[(2135, 1), (2303, 1), (6292, 1), (12395, 1), (24520, 1)]"
      ]
     },
     "execution_count": 2,
     "metadata": {},
     "output_type": "execute_result"
    }
   ],
   "source": [
    "icm = sc.textFile(\"../icm.csv\")\n",
    "icm = icm.map(lambda l: l.split(','))\\\n",
    "            .filter(lambda line: line[0] != 'itemId')\\\n",
    "            .map(lambda x: (int(x[0]), int(x[1])))\n",
    "icm.take(5)"
   ]
  },
  {
   "cell_type": "code",
   "execution_count": 3,
   "metadata": {},
   "outputs": [
    {
     "data": {
      "text/plain": [
       "[(32768, [2405, 12362]),\n",
       " (2, [9004, 9857, 15230, 15634, 18904, 19606]),\n",
       " (32772, [8922, 12236, 12512, 16761]),\n",
       " (6, [5787, 11496, 12412, 13223, 13749, 15634, 18904]),\n",
       " (8, [1540, 4807, 5778, 12362, 15397, 15634, 18904])]"
      ]
     },
     "execution_count": 3,
     "metadata": {},
     "output_type": "execute_result"
    }
   ],
   "source": [
    "itemFeature = icm.map(lambda x: (x[0],[x[1]])).reduceByKey(lambda x,y: x+y)\n",
    "itemFeatureDict = itemFeature.collectAsMap()\n",
    "itemFeature.take(5)\n"
   ]
  },
  {
   "cell_type": "code",
   "execution_count": 4,
   "metadata": {},
   "outputs": [
    {
     "name": "stdout",
     "output_type": "stream",
     "text": [
      "ProdCount:  36797\n"
     ]
    },
    {
     "data": {
      "text/plain": [
       "[(12691, 4.5658124127888637),\n",
       " (16384, 4.2647824171248825),\n",
       " (2, 4.2647824171248825),\n",
       " (19116, 4.2647824171248825),\n",
       " (12, 4.2647824171248825),\n",
       " (14, 4.2647824171248825),\n",
       " (16, 4.2647824171248825),\n",
       " (20, 4.2647824171248825),\n",
       " (24, 4.2647824171248825),\n",
       " (32, 4.2647824171248825)]"
      ]
     },
     "execution_count": 4,
     "metadata": {},
     "output_type": "execute_result"
    }
   ],
   "source": [
    "#Compute the feature-frequency\n",
    "featureFreq = icm.map(lambda x: (x[1],1)).reduceByKey(lambda x, y: x + y)\n",
    "featureFreqDict = featureFreq.collectAsMap()\n",
    "prodCount= icm.map(lambda x: x[0]).distinct().count()\n",
    "print(\"ProdCount: \",prodCount)\n",
    "\n",
    "featureIdf = featureFreq.map(lambda x: (x[0],np.log10(prodCount/x[1])))\n",
    "featureIdfDict = featureIdf.collectAsMap()\n",
    "featureIdf.takeOrdered(10,lambda x: -x[1])\n"
   ]
  },
  {
   "cell_type": "code",
   "execution_count": 5,
   "metadata": {},
   "outputs": [
    {
     "data": {
      "text/plain": [
       "36797"
      ]
     },
     "execution_count": 5,
     "metadata": {},
     "output_type": "execute_result"
    }
   ],
   "source": [
    "def computeTfForFeature(features):\n",
    "    count = len(features)\n",
    "    tfs = []\n",
    "    for i in features:\n",
    "        tfs.append((i, (1/np.sqrt(count))))\n",
    "    return tfs\n",
    "itemFeatureTf = itemFeature.map(lambda x: (x[0], computeTfForFeature(x[1])))\n",
    "itemFeatureTfDict = itemFeatureTf.collectAsMap()\n",
    "itemFeatureTf.count()"
   ]
  },
  {
   "cell_type": "code",
   "execution_count": 12,
   "metadata": {},
   "outputs": [
    {
     "data": {
      "text/plain": [
       "[(2738, 1, 1), (4716, 1, 4), (13298, 1, 8), (15122, 1, 4), (11326, 2, 5)]"
      ]
     },
     "execution_count": 12,
     "metadata": {},
     "output_type": "execute_result"
    }
   ],
   "source": [
    "trainSet = sc.textFile(\"../train.csv\")\n",
    "trainSet = trainSet.map(lambda l: l.split(','))\n",
    "trainSet = trainSet.filter(lambda line: 'userId' not in line)\n",
    "trainSet = trainSet.map(lambda line: (int(line[0]), int(line[1]), int(line[2])))\n",
    "trainSet.take(5)"
   ]
  },
  {
   "cell_type": "code",
   "execution_count": 32,
   "metadata": {},
   "outputs": [],
   "source": [
    "def profileItem(item, rating):\n",
    "    score = []\n",
    "    if item in itemFeatureTfDict.keys():\n",
    "        features = itemFeatureTfDict[item]\n",
    "        for f in features:\n",
    "            score.append((f[0], f[1]*rating))\n",
    "    return score\n"
   ]
  },
  {
   "cell_type": "code",
   "execution_count": null,
   "metadata": {},
   "outputs": [],
   "source": [
    "userProfileItem = trainSet.map(lambda x: (x[0], profileItem(x[1], x[2])))\n",
    "\n",
    "#REDUCE FUNCTION\n",
    "\n",
    "def aggUserFeatures(featuresX, featuresY):\n",
    "    for elem in featuresX:\n",
    "        for elem2 in featuresY:\n",
    "            if elem[0]==elem2[0]:\n",
    "                el=list(elem2)\n",
    "                el[1]=el[1]+elem[0]\n",
    "                elem2=tuple(el)\n",
    "            else:\n",
    "                featuresY.append(elem)\n",
    "    return featuresY\n",
    "\n",
    "userProfileItem=userProfileItem.reduceByKey(lambda x,y: aggUserFeatures(x,y))\n",
    "userProfileItem.take(5)        "
   ]
  },
  {
   "cell_type": "code",
   "execution_count": null,
   "metadata": {
    "collapsed": true
   },
   "outputs": [],
   "source": []
  }
 ],
 "metadata": {
  "kernelspec": {
   "display_name": "Python 3",
   "language": "python",
   "name": "python3"
  },
  "language_info": {
   "codemirror_mode": {
    "name": "ipython",
    "version": 3
   },
   "file_extension": ".py",
   "mimetype": "text/x-python",
   "name": "python",
   "nbconvert_exporter": "python",
   "pygments_lexer": "ipython3",
   "version": "3.5.3"
  }
 },
 "nbformat": 4,
 "nbformat_minor": 2
}
