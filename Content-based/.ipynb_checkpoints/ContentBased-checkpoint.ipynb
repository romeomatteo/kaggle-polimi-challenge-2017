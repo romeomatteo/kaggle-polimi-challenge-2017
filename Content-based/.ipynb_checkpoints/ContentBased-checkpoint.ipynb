{
 "cells": [
  {
   "cell_type": "code",
   "execution_count": 1,
   "metadata": {
    "collapsed": true
   },
   "outputs": [],
   "source": [
    "from pyspark import SparkContext\n",
    "import numpy as np\n",
    "sc = SparkContext.getOrCreate()"
   ]
  },
  {
   "cell_type": "code",
   "execution_count": 2,
   "metadata": {},
   "outputs": [
    {
     "data": {
      "text/plain": [
       "[(2135, 1), (2303, 1), (6292, 1), (12395, 1), (24520, 1)]"
      ]
     },
     "execution_count": 2,
     "metadata": {},
     "output_type": "execute_result"
    }
   ],
   "source": [
    "icm = sc.textFile(\"../icm.csv\")\n",
    "icm = icm.map(lambda l: l.split(','))\\\n",
    "            .filter(lambda line: line[0] != 'itemId')\\\n",
    "            .map(lambda x: (int(x[0]), int(x[1])))\n",
    "icm.take(5)"
   ]
  },
  {
   "cell_type": "code",
   "execution_count": 3,
   "metadata": {},
   "outputs": [
    {
     "data": {
      "text/plain": [
       "[(32768, [2405, 12362]),\n",
       " (2, [9004, 9857, 15230, 15634, 18904, 19606]),\n",
       " (32772, [8922, 12236, 12512, 16761]),\n",
       " (6, [5787, 11496, 12412, 13223, 13749, 15634, 18904]),\n",
       " (8, [1540, 4807, 5778, 12362, 15397, 15634, 18904])]"
      ]
     },
     "execution_count": 3,
     "metadata": {},
     "output_type": "execute_result"
    }
   ],
   "source": [
    "itemFeature = icm.map(lambda x: (x[0],[x[1]])).reduceByKey(lambda x,y: x+y)\n",
    "itemFeatureDict = itemFeature.collectAsMap()\n",
    "itemFeature.take(5)"
   ]
  },
  {
   "cell_type": "code",
   "execution_count": 4,
   "metadata": {},
   "outputs": [
    {
     "name": "stdout",
     "output_type": "stream",
     "text": [
      "ProdCount:  36797\n"
     ]
    },
    {
     "data": {
      "text/plain": [
       "[(12691, 4.5658124127888637),\n",
       " (16384, 4.2647824171248825),\n",
       " (2, 4.2647824171248825),\n",
       " (19116, 4.2647824171248825),\n",
       " (12, 4.2647824171248825),\n",
       " (14, 4.2647824171248825),\n",
       " (16, 4.2647824171248825),\n",
       " (20, 4.2647824171248825),\n",
       " (24, 4.2647824171248825),\n",
       " (32, 4.2647824171248825)]"
      ]
     },
     "execution_count": 4,
     "metadata": {},
     "output_type": "execute_result"
    }
   ],
   "source": [
    "#Compute the feature-frequency\n",
    "featureFreq = icm.map(lambda x: (x[1],1)).reduceByKey(lambda x, y: x + y)\n",
    "featureFreqDict = featureFreq.collectAsMap()\n",
    "prodCount= icm.map(lambda x: x[0]).distinct().count()\n",
    "print(\"ProdCount: \",prodCount)\n",
    "\n",
    "featureIdf = featureFreq.map(lambda x: (x[0],np.log10(prodCount/x[1])))\n",
    "featureIdfDict = featureIdf.collectAsMap()\n",
    "featureIdf.takeOrdered(10,lambda x: -x[1])\n"
   ]
  },
  {
   "cell_type": "code",
   "execution_count": 5,
   "metadata": {},
   "outputs": [
    {
     "name": "stdout",
     "output_type": "stream",
     "text": [
      "TF for each item\n"
     ]
    },
    {
     "data": {
      "text/plain": [
       "[(32768, [(2405, 0.70710678118654746), (12362, 0.70710678118654746)]),\n",
       " (2,\n",
       "  [(9004, 0.40824829046386307),\n",
       "   (9857, 0.40824829046386307),\n",
       "   (15230, 0.40824829046386307),\n",
       "   (15634, 0.40824829046386307),\n",
       "   (18904, 0.40824829046386307),\n",
       "   (19606, 0.40824829046386307)]),\n",
       " (32772, [(8922, 0.5), (12236, 0.5), (12512, 0.5), (16761, 0.5)]),\n",
       " (6,\n",
       "  [(5787, 0.3779644730092272),\n",
       "   (11496, 0.3779644730092272),\n",
       "   (12412, 0.3779644730092272),\n",
       "   (13223, 0.3779644730092272),\n",
       "   (13749, 0.3779644730092272),\n",
       "   (15634, 0.3779644730092272),\n",
       "   (18904, 0.3779644730092272)]),\n",
       " (8,\n",
       "  [(1540, 0.3779644730092272),\n",
       "   (4807, 0.3779644730092272),\n",
       "   (5778, 0.3779644730092272),\n",
       "   (12362, 0.3779644730092272),\n",
       "   (15397, 0.3779644730092272),\n",
       "   (15634, 0.3779644730092272),\n",
       "   (18904, 0.3779644730092272)])]"
      ]
     },
     "execution_count": 5,
     "metadata": {},
     "output_type": "execute_result"
    }
   ],
   "source": [
    "def computeTfForFeature(features):\n",
    "    count = len(features)\n",
    "    tfs = []\n",
    "    for i in features:\n",
    "        tfs.append((i, (1/np.sqrt(count))))\n",
    "    return tfs\n",
    "itemFeatureTf = itemFeature.map(lambda x: (x[0], computeTfForFeature(x[1])))\n",
    "itemFeatureTfDict = itemFeatureTf.collectAsMap()\n",
    "print(\"TF for each item\")\n",
    "itemFeatureTf.take(5)"
   ]
  },
  {
   "cell_type": "code",
   "execution_count": 6,
   "metadata": {},
   "outputs": [
    {
     "data": {
      "text/plain": [
       "[(2738, 1, 1), (4716, 1, 4), (13298, 1, 8), (15122, 1, 4), (11326, 2, 5)]"
      ]
     },
     "execution_count": 6,
     "metadata": {},
     "output_type": "execute_result"
    }
   ],
   "source": [
    "trainSet = sc.textFile(\"../train.csv\")\n",
    "trainSet = trainSet.map(lambda l: l.split(','))\n",
    "trainSet = trainSet.filter(lambda line: 'userId' not in line)\n",
    "trainSet = trainSet.map(lambda line: (int(line[0]), int(line[1]), int(line[2])))\n",
    "trainSet.take(5)"
   ]
  },
  {
   "cell_type": "code",
   "execution_count": 7,
   "metadata": {
    "collapsed": true
   },
   "outputs": [],
   "source": [
    "def profileItem(item, rating):\n",
    "    score = []\n",
    "    if item in itemFeatureTfDict.keys():\n",
    "        features = itemFeatureTfDict[item]\n",
    "        for f in features:\n",
    "            score.append((f[0], f[1]*rating))\n",
    "    return score\n"
   ]
  },
  {
   "cell_type": "code",
   "execution_count": 8,
   "metadata": {},
   "outputs": [
    {
     "data": {
      "text/plain": [
       "[(2738,\n",
       "  [(876, 0.40824829046386307),\n",
       "   (3523, 0.40824829046386307),\n",
       "   (6396, 0.40824829046386307),\n",
       "   (9004, 0.40824829046386307),\n",
       "   (12361, 0.40824829046386307),\n",
       "   (18904, 0.40824829046386307)]),\n",
       " (4716,\n",
       "  [(876, 1.6329931618554523),\n",
       "   (3523, 1.6329931618554523),\n",
       "   (6396, 1.6329931618554523),\n",
       "   (9004, 1.6329931618554523),\n",
       "   (12361, 1.6329931618554523),\n",
       "   (18904, 1.6329931618554523)]),\n",
       " (13298,\n",
       "  [(876, 3.2659863237109046),\n",
       "   (3523, 3.2659863237109046),\n",
       "   (6396, 3.2659863237109046),\n",
       "   (9004, 3.2659863237109046),\n",
       "   (12361, 3.2659863237109046),\n",
       "   (18904, 3.2659863237109046)]),\n",
       " (15122,\n",
       "  [(876, 1.6329931618554523),\n",
       "   (3523, 1.6329931618554523),\n",
       "   (6396, 1.6329931618554523),\n",
       "   (9004, 1.6329931618554523),\n",
       "   (12361, 1.6329931618554523),\n",
       "   (18904, 1.6329931618554523)]),\n",
       " (11326,\n",
       "  [(9004, 2.0412414523193152),\n",
       "   (9857, 2.0412414523193152),\n",
       "   (15230, 2.0412414523193152),\n",
       "   (15634, 2.0412414523193152),\n",
       "   (18904, 2.0412414523193152),\n",
       "   (19606, 2.0412414523193152)]),\n",
       " (3406,\n",
       "  [(1926, 1.6329931618554523),\n",
       "   (4134, 1.6329931618554523),\n",
       "   (5407, 1.6329931618554523),\n",
       "   (15634, 1.6329931618554523),\n",
       "   (17240, 1.6329931618554523),\n",
       "   (18904, 1.6329931618554523)]),\n",
       " (3906,\n",
       "  [(1926, 4.0824829046386304),\n",
       "   (4134, 4.0824829046386304),\n",
       "   (5407, 4.0824829046386304),\n",
       "   (15634, 4.0824829046386304),\n",
       "   (17240, 4.0824829046386304),\n",
       "   (18904, 4.0824829046386304)]),\n",
       " (6345,\n",
       "  [(1926, 2.4494897427831783),\n",
       "   (4134, 2.4494897427831783),\n",
       "   (5407, 2.4494897427831783),\n",
       "   (15634, 2.4494897427831783),\n",
       "   (17240, 2.4494897427831783),\n",
       "   (18904, 2.4494897427831783)]),\n",
       " (7393,\n",
       "  [(1926, 3.2659863237109046),\n",
       "   (4134, 3.2659863237109046),\n",
       "   (5407, 3.2659863237109046),\n",
       "   (15634, 3.2659863237109046),\n",
       "   (17240, 3.2659863237109046),\n",
       "   (18904, 3.2659863237109046)]),\n",
       " (815,\n",
       "  [(11032, 3.5777087639996634),\n",
       "   (13000, 3.5777087639996634),\n",
       "   (14500, 3.5777087639996634),\n",
       "   (15634, 3.5777087639996634),\n",
       "   (18904, 3.5777087639996634)])]"
      ]
     },
     "execution_count": 8,
     "metadata": {},
     "output_type": "execute_result"
    }
   ],
   "source": [
    "userProfileItem = trainSet.map(lambda x: (x[0], profileItem(x[1], x[2])))\n",
    "userProfileItem.cache() \n",
    "userProfileItem.take(10)"
   ]
  },
  {
   "cell_type": "code",
   "execution_count": 9,
   "metadata": {},
   "outputs": [
    {
     "data": {
      "text/plain": [
       "[(2,\n",
       "  [(2405, 1.0606601717798212),\n",
       "   (3903, 1.0606601717798212),\n",
       "   (4117, 1.0606601717798212),\n",
       "   (4850, 1.0606601717798212),\n",
       "   (9003, 1.0606601717798212),\n",
       "   (10653, 1.0606601717798212),\n",
       "   (12362, 1.0606601717798212),\n",
       "   (18096, 1.0606601717798212)]),\n",
       " (4,\n",
       "  [(2482, 3.4016802570830449),\n",
       "   (5527, 3.4016802570830449),\n",
       "   (9849, 3.4016802570830449),\n",
       "   (12899, 3.4016802570830449),\n",
       "   (15634, 6.8033605141660898),\n",
       "   (16783, 3.4016802570830449),\n",
       "   (18904, 6.8033605141660898),\n",
       "   (3626, 3.4016802570830449),\n",
       "   (5787, 3.4016802570830449),\n",
       "   (8152, 3.4016802570830449),\n",
       "   (15058, 3.4016802570830449),\n",
       "   (15623, 3.4016802570830449)]),\n",
       " (8,\n",
       "  [(6154, 0.40824829046386307),\n",
       "   (6514, 0.40824829046386307),\n",
       "   (10250, 0.40824829046386307),\n",
       "   (12362, 10.54096707485945),\n",
       "   (15507, 0.40824829046386307),\n",
       "   (18904, 38.008281456753281),\n",
       "   (3828, 4.0824829046386304),\n",
       "   (4346, 4.0824829046386304),\n",
       "   (8922, 4.0824829046386304),\n",
       "   (9122, 4.0824829046386304),\n",
       "   (15200, 4.0824829046386304),\n",
       "   (2405, 11.279533045714988),\n",
       "   (4396, 3.2659863237109046),\n",
       "   (5398, 5.1558086887570411),\n",
       "   (5786, 3.2659863237109046),\n",
       "   (9620, 3.2659863237109046),\n",
       "   (5787, 15.885843418804722),\n",
       "   (8760, 5.0),\n",
       "   (10262, 5.0),\n",
       "   (15292, 5.0),\n",
       "   (295, 3.7796447300922722),\n",
       "   (1101, 3.7796447300922722),\n",
       "   (7347, 3.7796447300922722),\n",
       "   (8921, 7.8621276347309026),\n",
       "   (10971, 3.7796447300922722),\n",
       "   (15634, 14.665488148896994),\n",
       "   (2778, 1.8898223650461361),\n",
       "   (7917, 1.8898223650461361),\n",
       "   (9637, 5.5640569792209043),\n",
       "   (7274, 4.0824829046386304),\n",
       "   (13847, 4.0824829046386304),\n",
       "   (14844, 4.0824829046386304),\n",
       "   (5728, 6.8033605141660898),\n",
       "   (5972, 3.7796447300922722),\n",
       "   (10734, 3.7796447300922722),\n",
       "   (12360, 3.7796447300922722),\n",
       "   (19431, 3.7796447300922722),\n",
       "   (845, 4.5),\n",
       "   (5309, 4.5),\n",
       "   (5960, 4.5),\n",
       "   (8084, 0.89442719099991586),\n",
       "   (19324, 0.89442719099991586),\n",
       "   (19374, 0.89442719099991586),\n",
       "   (5424, 3.6742346141747677),\n",
       "   (6058, 3.6742346141747677),\n",
       "   (2651, 3.0237157840738176),\n",
       "   (13058, 3.0237157840738176),\n",
       "   (17950, 3.0237157840738176),\n",
       "   (18208, 3.0237157840738176),\n",
       "   (6194, 3.6742346141747677),\n",
       "   (11031, 3.6742346141747677),\n",
       "   (12284, 6.123724356957946),\n",
       "   (18237, 3.6742346141747677),\n",
       "   (7239, 3.6742346141747677),\n",
       "   (9639, 3.6742346141747677),\n",
       "   (10708, 3.6742346141747677),\n",
       "   (13179, 3.6742346141747677),\n",
       "   (16376, 3.6742346141747677),\n",
       "   (2747, 4.0824829046386304),\n",
       "   (4314, 4.0824829046386304),\n",
       "   (5443, 4.0824829046386304),\n",
       "   (9874, 4.0824829046386304),\n",
       "   (584, 2.4494897427831783),\n",
       "   (4497, 2.4494897427831783),\n",
       "   (10297, 2.4494897427831783),\n",
       "   (17220, 2.4494897427831783)]),\n",
       " (10,\n",
       "  [(2405, 1.8898223650461361),\n",
       "   (2771, 1.8898223650461361),\n",
       "   (4715, 1.8898223650461361),\n",
       "   (14112, 1.8898223650461361),\n",
       "   (16956, 1.8898223650461361),\n",
       "   (17410, 1.8898223650461361),\n",
       "   (18904, 5.5640569792209043),\n",
       "   (178, 3.6742346141747677),\n",
       "   (5787, 3.6742346141747677),\n",
       "   (7902, 3.6742346141747677),\n",
       "   (8303, 3.6742346141747677),\n",
       "   (13894, 3.6742346141747677)]),\n",
       " (12,\n",
       "  [(1344, 3.5777087639996634),\n",
       "   (5043, 8.0498447189992426),\n",
       "   (12284, 8.0498447189992426),\n",
       "   (12982, 3.5777087639996634),\n",
       "   (14631, 3.5777087639996634),\n",
       "   (3117, 4.4721359549995796),\n",
       "   (5792, 4.4721359549995796),\n",
       "   (15796, 4.4721359549995796)])]"
      ]
     },
     "execution_count": 9,
     "metadata": {},
     "output_type": "execute_result"
    }
   ],
   "source": [
    "def aggUserFeatures(featuresX, featuresY):\n",
    "    finalList = []\n",
    "    for elem in featuresX:\n",
    "        notFound=True\n",
    "        for elem2 in featuresY:\n",
    "            if elem[0]==elem2[0]:\n",
    "                notFound=False\n",
    "                finalList.append((elem[0],elem[1]+elem2[1]))\n",
    "                break\n",
    "        if(notFound):\n",
    "                finalList.append(elem)\n",
    "    featureList = []\n",
    "    for elem in finalList:\n",
    "        featureList.append(elem[0])\n",
    "    for elem in featuresY:\n",
    "        if elem[0] not in featureList:\n",
    "            finalList.append(elem)\n",
    "    return finalList\n",
    "\n",
    "userProfileItem=userProfileItem.reduceByKey(lambda x,y: aggUserFeatures(x,y))\n",
    "userProfileItem.cache()\n",
    "userProfileItem.take(5)"
   ]
  },
  {
   "cell_type": "code",
   "execution_count": 10,
   "metadata": {},
   "outputs": [
    {
     "data": {
      "text/plain": [
       "PythonRDD[34] at RDD at PythonRDD.scala:48"
      ]
     },
     "execution_count": 10,
     "metadata": {},
     "output_type": "execute_result"
    }
   ],
   "source": [
    "userProfileItem=userProfileItem.map(lambda x: (x[0],dict(x[1])))\n",
    "userProfileItem.cache()"
   ]
  },
  {
   "cell_type": "code",
   "execution_count": 20,
   "metadata": {},
   "outputs": [
    {
     "data": {
      "text/plain": [
       "15373"
      ]
     },
     "execution_count": 20,
     "metadata": {},
     "output_type": "execute_result"
    }
   ],
   "source": [
    "seenItems= trainSet.map(lambda x: (x[0],[x[1]])).reduceByKey(lambda x,y: x + y)\n",
    "seenItemsDict=seenItems.collectAsMap()\n",
    "seenItemsDict[100]\n",
    "\n",
    "users=trainSet.map(lambda x: x[0]).distinct().collect()\n",
    "len(users)"
   ]
  },
  {
   "cell_type": "code",
   "execution_count": 25,
   "metadata": {
    "collapsed": true
   },
   "outputs": [],
   "source": [
    "#FOR THE TOP POP\n",
    "itemSet = trainSet.map(lambda x: (x[1], x[2]))\n",
    "itemsCount = trainSet.map(lambda x: (x[1],1)).reduceByKey(lambda x,y : x + y)\n",
    "itemsCount_dict = itemsCount.collectAsMap()\n",
    "\n",
    "cost=7\n",
    "avgRatings=itemSet.reduceByKey(lambda x,y: x+y)\n",
    "avgRatings=avgRatings.map(lambda x: (x[0],x[1]/(itemsCount_dict[x[0]]+cost)))\n",
    "avgRatings.take(5)\n",
    "itemOrderByPop=avgRatings.sortBy(lambda x: x[1], ascending=False)\n",
    "itemPop = np.array(itemOrderByPop.map(lambda x: x[0]).collect())\n",
    "\n",
    "def recommendTopPop(user_id, removeSeen=True):\n",
    "    seenItems = np.array(seenItemsDict[user_id])\n",
    "    recommendedList = itemPop\n",
    "    if(removeSeen):\n",
    "        unseen_mask = np.in1d(recommendedList, seenItems, invert=True)\n",
    "        recommendedList = recommendedList[unseen_mask]       \n",
    "    return recommendedList[0:numberOfItemsToRecommend]"
   ]
  },
  {
   "cell_type": "code",
   "execution_count": 31,
   "metadata": {},
   "outputs": [],
   "source": [
    "numberOfRecommendations=5\n",
    "\n",
    "def isUserNew(user):\n",
    "    return user not in users\n",
    "\n",
    "def fillWithTopPop(recommended,user):\n",
    "    TopPop=recommendTopPop(user)\n",
    "    for i in range (numberOfRecommendations-len(recommended)):\n",
    "        recommended.append(TopPop(i))\n",
    "    return recommended\n",
    "\n",
    "def recommendedProduct(user):\n",
    "    userAnalysis = userProfileItem.filter(lambda x: x[0] == user)\n",
    "    userProfiles = userAnalysis.map(lambda x: x[1]).collect()[0]\n",
    "    recommendedItems = []\n",
    "    if isUserNew(user):\n",
    "        print(\"Cazzo, sei nuovo!\")\n",
    "        return fillWithTopPop(recommendedItems)\n",
    "    else:\n",
    "        for item in itemFeatureDict:\n",
    "            if item not in seenItemsDict[user]:\n",
    "                itemFeatureTfDictNew = dict(itemFeatureTfDict[item])\n",
    "                userFeatures = np.array(list(userProfiles.keys()))\n",
    "                itemFeatures = itemFeatureDict[item]\n",
    "                itemFeatures = np.array(itemFeatures)\n",
    "                futuresCommon = np.in1d(userFeatures, itemFeatures, invert=False)\n",
    "                commonFeatures = userFeatures[futuresCommon]\n",
    "                if len(commonFeatures)>0:\n",
    "                    rank = 0\n",
    "                    for f in commonFeatures:\n",
    "                        rank = rank + featureIdfDict[f] * itemFeatureTfDictNew[f] * userProfiles[f]\n",
    "                    if len(recommendedItems) < numberOfRecommendations:\n",
    "                        recommendedItems.append((item, rank))\n",
    "                    else:\n",
    "                        minRank = min(recommendedItems, key = lambda t: t[1])\n",
    "                        if rank > minRank[1]:\n",
    "                            recommendedItems = [t for t in recommendedItems if t[0] != minRank[0]]\n",
    "                            recommendedItems.append((item, rank))\n",
    "        #if less than 5 elements with common feature have been retrieved \n",
    "    recommendedItems = sorted(recommendedItems, key = lambda x: -x[1] )\n",
    "    recommendedItems = list(map(lambda x: x[0], recommendedItems))\n",
    "    if len(recommendedItems)<numberOfRecommendations:\n",
    "            recommendedItems=fillWithTopPop(recommendedItems)\n",
    "    return recommendedItems\n",
    "                \n",
    "            "
   ]
  },
  {
   "cell_type": "code",
   "execution_count": 32,
   "metadata": {},
   "outputs": [
    {
     "name": "stdout",
     "output_type": "stream",
     "text": [
      "Recc for user 100:  [12535, 4223, 11554, 20532, 19267]\n"
     ]
    }
   ],
   "source": [
    "recom=recommendedProduct(100)\n",
    "print(\"Recc for user 100: \", recom)"
   ]
  },
  {
   "cell_type": "code",
   "execution_count": 24,
   "metadata": {},
   "outputs": [
    {
     "name": "stdout",
     "output_type": "stream",
     "text": [
      "1 of 4196 written\n",
      "2 of 4196 written\n",
      "3 of 4196 written\n",
      "4 of 4196 written\n"
     ]
    },
    {
     "ename": "KeyboardInterrupt",
     "evalue": "",
     "output_type": "error",
     "traceback": [
      "\u001b[1;31m---------------------------------------------------------------------------\u001b[0m",
      "\u001b[1;31mKeyboardInterrupt\u001b[0m                         Traceback (most recent call last)",
      "\u001b[1;32m<ipython-input-24-1373a3fd9de0>\u001b[0m in \u001b[0;36m<module>\u001b[1;34m()\u001b[0m\n\u001b[0;32m      2\u001b[0m \u001b[0mi\u001b[0m\u001b[1;33m=\u001b[0m\u001b[1;36m0\u001b[0m\u001b[1;33m\u001b[0m\u001b[0m\n\u001b[0;32m      3\u001b[0m \u001b[1;32mfor\u001b[0m \u001b[0muser\u001b[0m \u001b[1;32min\u001b[0m \u001b[0mtoBeRecommend\u001b[0m\u001b[1;33m:\u001b[0m\u001b[1;33m\u001b[0m\u001b[0m\n\u001b[1;32m----> 4\u001b[1;33m     \u001b[0mrecommended\u001b[0m\u001b[1;33m=\u001b[0m\u001b[0mrecommendedProduct\u001b[0m\u001b[1;33m(\u001b[0m\u001b[0mint\u001b[0m\u001b[1;33m(\u001b[0m\u001b[0muser\u001b[0m\u001b[1;33m)\u001b[0m\u001b[1;33m)\u001b[0m\u001b[1;33m\u001b[0m\u001b[0m\n\u001b[0m\u001b[0;32m      5\u001b[0m     \u001b[0mi\u001b[0m\u001b[1;33m=\u001b[0m\u001b[0mi\u001b[0m\u001b[1;33m+\u001b[0m\u001b[1;36m1\u001b[0m\u001b[1;33m\u001b[0m\u001b[0m\n\u001b[0;32m      6\u001b[0m     \u001b[0mprint\u001b[0m\u001b[1;33m(\u001b[0m\u001b[0mi\u001b[0m\u001b[1;33m,\u001b[0m\u001b[1;34m\"of\"\u001b[0m\u001b[1;33m,\u001b[0m \u001b[0mlen\u001b[0m\u001b[1;33m(\u001b[0m\u001b[0mtoBeRecommend\u001b[0m\u001b[1;33m)\u001b[0m\u001b[1;33m,\u001b[0m \u001b[1;34m\"written\"\u001b[0m\u001b[1;33m)\u001b[0m\u001b[1;33m\u001b[0m\u001b[0m\n",
      "\u001b[1;32m<ipython-input-22-07a5980a7be1>\u001b[0m in \u001b[0;36mrecommendedProduct\u001b[1;34m(user)\u001b[0m\n\u001b[0;32m      5\u001b[0m \u001b[1;32mdef\u001b[0m \u001b[0mrecommendedProduct\u001b[0m\u001b[1;33m(\u001b[0m\u001b[0muser\u001b[0m\u001b[1;33m)\u001b[0m\u001b[1;33m:\u001b[0m\u001b[1;33m\u001b[0m\u001b[0m\n\u001b[0;32m      6\u001b[0m     \u001b[0muserAnalysis\u001b[0m \u001b[1;33m=\u001b[0m \u001b[0muserProfileItem\u001b[0m\u001b[1;33m.\u001b[0m\u001b[0mfilter\u001b[0m\u001b[1;33m(\u001b[0m\u001b[1;32mlambda\u001b[0m \u001b[0mx\u001b[0m\u001b[1;33m:\u001b[0m \u001b[0mx\u001b[0m\u001b[1;33m[\u001b[0m\u001b[1;36m0\u001b[0m\u001b[1;33m]\u001b[0m \u001b[1;33m==\u001b[0m \u001b[0muser\u001b[0m\u001b[1;33m)\u001b[0m\u001b[1;33m\u001b[0m\u001b[0m\n\u001b[1;32m----> 7\u001b[1;33m     \u001b[0muserProfiles\u001b[0m \u001b[1;33m=\u001b[0m \u001b[0muserAnalysis\u001b[0m\u001b[1;33m.\u001b[0m\u001b[0mmap\u001b[0m\u001b[1;33m(\u001b[0m\u001b[1;32mlambda\u001b[0m \u001b[0mx\u001b[0m\u001b[1;33m:\u001b[0m \u001b[0mx\u001b[0m\u001b[1;33m[\u001b[0m\u001b[1;36m1\u001b[0m\u001b[1;33m]\u001b[0m\u001b[1;33m)\u001b[0m\u001b[1;33m.\u001b[0m\u001b[0mcollect\u001b[0m\u001b[1;33m(\u001b[0m\u001b[1;33m)\u001b[0m\u001b[1;33m[\u001b[0m\u001b[1;36m0\u001b[0m\u001b[1;33m]\u001b[0m\u001b[1;33m\u001b[0m\u001b[0m\n\u001b[0m\u001b[0;32m      8\u001b[0m     \u001b[0mrecommendedItems\u001b[0m \u001b[1;33m=\u001b[0m \u001b[1;33m[\u001b[0m\u001b[1;33m]\u001b[0m\u001b[1;33m\u001b[0m\u001b[0m\n\u001b[0;32m      9\u001b[0m     \u001b[1;32mif\u001b[0m \u001b[0misUserNew\u001b[0m\u001b[1;33m(\u001b[0m\u001b[0muser\u001b[0m\u001b[1;33m)\u001b[0m\u001b[1;33m:\u001b[0m\u001b[1;33m\u001b[0m\u001b[0m\n",
      "\u001b[1;32mC:/Users/Matteo/spark-2.1.0-bin-hadoop2.7\\python\\pyspark\\rdd.py\u001b[0m in \u001b[0;36mcollect\u001b[1;34m(self)\u001b[0m\n\u001b[0;32m    807\u001b[0m         \"\"\"\n\u001b[0;32m    808\u001b[0m         \u001b[1;32mwith\u001b[0m \u001b[0mSCCallSiteSync\u001b[0m\u001b[1;33m(\u001b[0m\u001b[0mself\u001b[0m\u001b[1;33m.\u001b[0m\u001b[0mcontext\u001b[0m\u001b[1;33m)\u001b[0m \u001b[1;32mas\u001b[0m \u001b[0mcss\u001b[0m\u001b[1;33m:\u001b[0m\u001b[1;33m\u001b[0m\u001b[0m\n\u001b[1;32m--> 809\u001b[1;33m             \u001b[0mport\u001b[0m \u001b[1;33m=\u001b[0m \u001b[0mself\u001b[0m\u001b[1;33m.\u001b[0m\u001b[0mctx\u001b[0m\u001b[1;33m.\u001b[0m\u001b[0m_jvm\u001b[0m\u001b[1;33m.\u001b[0m\u001b[0mPythonRDD\u001b[0m\u001b[1;33m.\u001b[0m\u001b[0mcollectAndServe\u001b[0m\u001b[1;33m(\u001b[0m\u001b[0mself\u001b[0m\u001b[1;33m.\u001b[0m\u001b[0m_jrdd\u001b[0m\u001b[1;33m.\u001b[0m\u001b[0mrdd\u001b[0m\u001b[1;33m(\u001b[0m\u001b[1;33m)\u001b[0m\u001b[1;33m)\u001b[0m\u001b[1;33m\u001b[0m\u001b[0m\n\u001b[0m\u001b[0;32m    810\u001b[0m         \u001b[1;32mreturn\u001b[0m \u001b[0mlist\u001b[0m\u001b[1;33m(\u001b[0m\u001b[0m_load_from_socket\u001b[0m\u001b[1;33m(\u001b[0m\u001b[0mport\u001b[0m\u001b[1;33m,\u001b[0m \u001b[0mself\u001b[0m\u001b[1;33m.\u001b[0m\u001b[0m_jrdd_deserializer\u001b[0m\u001b[1;33m)\u001b[0m\u001b[1;33m)\u001b[0m\u001b[1;33m\u001b[0m\u001b[0m\n\u001b[0;32m    811\u001b[0m \u001b[1;33m\u001b[0m\u001b[0m\n",
      "\u001b[1;32mC:\\Users\\Matteo\\spark-2.1.0-bin-hadoop2.7\\python\\lib\\py4j-0.10.4-src.zip\\py4j\\java_gateway.py\u001b[0m in \u001b[0;36m__call__\u001b[1;34m(self, *args)\u001b[0m\n\u001b[0;32m   1129\u001b[0m             \u001b[0mproto\u001b[0m\u001b[1;33m.\u001b[0m\u001b[0mEND_COMMAND_PART\u001b[0m\u001b[1;33m\u001b[0m\u001b[0m\n\u001b[0;32m   1130\u001b[0m \u001b[1;33m\u001b[0m\u001b[0m\n\u001b[1;32m-> 1131\u001b[1;33m         \u001b[0manswer\u001b[0m \u001b[1;33m=\u001b[0m \u001b[0mself\u001b[0m\u001b[1;33m.\u001b[0m\u001b[0mgateway_client\u001b[0m\u001b[1;33m.\u001b[0m\u001b[0msend_command\u001b[0m\u001b[1;33m(\u001b[0m\u001b[0mcommand\u001b[0m\u001b[1;33m)\u001b[0m\u001b[1;33m\u001b[0m\u001b[0m\n\u001b[0m\u001b[0;32m   1132\u001b[0m         return_value = get_return_value(\n\u001b[0;32m   1133\u001b[0m             answer, self.gateway_client, self.target_id, self.name)\n",
      "\u001b[1;32mC:\\Users\\Matteo\\spark-2.1.0-bin-hadoop2.7\\python\\lib\\py4j-0.10.4-src.zip\\py4j\\java_gateway.py\u001b[0m in \u001b[0;36msend_command\u001b[1;34m(self, command, retry, binary)\u001b[0m\n\u001b[0;32m    881\u001b[0m         \u001b[0mconnection\u001b[0m \u001b[1;33m=\u001b[0m \u001b[0mself\u001b[0m\u001b[1;33m.\u001b[0m\u001b[0m_get_connection\u001b[0m\u001b[1;33m(\u001b[0m\u001b[1;33m)\u001b[0m\u001b[1;33m\u001b[0m\u001b[0m\n\u001b[0;32m    882\u001b[0m         \u001b[1;32mtry\u001b[0m\u001b[1;33m:\u001b[0m\u001b[1;33m\u001b[0m\u001b[0m\n\u001b[1;32m--> 883\u001b[1;33m             \u001b[0mresponse\u001b[0m \u001b[1;33m=\u001b[0m \u001b[0mconnection\u001b[0m\u001b[1;33m.\u001b[0m\u001b[0msend_command\u001b[0m\u001b[1;33m(\u001b[0m\u001b[0mcommand\u001b[0m\u001b[1;33m)\u001b[0m\u001b[1;33m\u001b[0m\u001b[0m\n\u001b[0m\u001b[0;32m    884\u001b[0m             \u001b[1;32mif\u001b[0m \u001b[0mbinary\u001b[0m\u001b[1;33m:\u001b[0m\u001b[1;33m\u001b[0m\u001b[0m\n\u001b[0;32m    885\u001b[0m                 \u001b[1;32mreturn\u001b[0m \u001b[0mresponse\u001b[0m\u001b[1;33m,\u001b[0m \u001b[0mself\u001b[0m\u001b[1;33m.\u001b[0m\u001b[0m_create_connection_guard\u001b[0m\u001b[1;33m(\u001b[0m\u001b[0mconnection\u001b[0m\u001b[1;33m)\u001b[0m\u001b[1;33m\u001b[0m\u001b[0m\n",
      "\u001b[1;32mC:\\Users\\Matteo\\spark-2.1.0-bin-hadoop2.7\\python\\lib\\py4j-0.10.4-src.zip\\py4j\\java_gateway.py\u001b[0m in \u001b[0;36msend_command\u001b[1;34m(self, command)\u001b[0m\n\u001b[0;32m   1026\u001b[0m \u001b[1;33m\u001b[0m\u001b[0m\n\u001b[0;32m   1027\u001b[0m         \u001b[1;32mtry\u001b[0m\u001b[1;33m:\u001b[0m\u001b[1;33m\u001b[0m\u001b[0m\n\u001b[1;32m-> 1028\u001b[1;33m             \u001b[0manswer\u001b[0m \u001b[1;33m=\u001b[0m \u001b[0msmart_decode\u001b[0m\u001b[1;33m(\u001b[0m\u001b[0mself\u001b[0m\u001b[1;33m.\u001b[0m\u001b[0mstream\u001b[0m\u001b[1;33m.\u001b[0m\u001b[0mreadline\u001b[0m\u001b[1;33m(\u001b[0m\u001b[1;33m)\u001b[0m\u001b[1;33m[\u001b[0m\u001b[1;33m:\u001b[0m\u001b[1;33m-\u001b[0m\u001b[1;36m1\u001b[0m\u001b[1;33m]\u001b[0m\u001b[1;33m)\u001b[0m\u001b[1;33m\u001b[0m\u001b[0m\n\u001b[0m\u001b[0;32m   1029\u001b[0m             \u001b[0mlogger\u001b[0m\u001b[1;33m.\u001b[0m\u001b[0mdebug\u001b[0m\u001b[1;33m(\u001b[0m\u001b[1;34m\"Answer received: {0}\"\u001b[0m\u001b[1;33m.\u001b[0m\u001b[0mformat\u001b[0m\u001b[1;33m(\u001b[0m\u001b[0manswer\u001b[0m\u001b[1;33m)\u001b[0m\u001b[1;33m)\u001b[0m\u001b[1;33m\u001b[0m\u001b[0m\n\u001b[0;32m   1030\u001b[0m             \u001b[1;32mif\u001b[0m \u001b[0manswer\u001b[0m\u001b[1;33m.\u001b[0m\u001b[0mstartswith\u001b[0m\u001b[1;33m(\u001b[0m\u001b[0mproto\u001b[0m\u001b[1;33m.\u001b[0m\u001b[0mRETURN_MESSAGE\u001b[0m\u001b[1;33m)\u001b[0m\u001b[1;33m:\u001b[0m\u001b[1;33m\u001b[0m\u001b[0m\n",
      "\u001b[1;32mC:\\Users\\Matteo\\Anaconda3\\envs\\py35\\lib\\socket.py\u001b[0m in \u001b[0;36mreadinto\u001b[1;34m(self, b)\u001b[0m\n\u001b[0;32m    574\u001b[0m         \u001b[1;32mwhile\u001b[0m \u001b[1;32mTrue\u001b[0m\u001b[1;33m:\u001b[0m\u001b[1;33m\u001b[0m\u001b[0m\n\u001b[0;32m    575\u001b[0m             \u001b[1;32mtry\u001b[0m\u001b[1;33m:\u001b[0m\u001b[1;33m\u001b[0m\u001b[0m\n\u001b[1;32m--> 576\u001b[1;33m                 \u001b[1;32mreturn\u001b[0m \u001b[0mself\u001b[0m\u001b[1;33m.\u001b[0m\u001b[0m_sock\u001b[0m\u001b[1;33m.\u001b[0m\u001b[0mrecv_into\u001b[0m\u001b[1;33m(\u001b[0m\u001b[0mb\u001b[0m\u001b[1;33m)\u001b[0m\u001b[1;33m\u001b[0m\u001b[0m\n\u001b[0m\u001b[0;32m    577\u001b[0m             \u001b[1;32mexcept\u001b[0m \u001b[0mtimeout\u001b[0m\u001b[1;33m:\u001b[0m\u001b[1;33m\u001b[0m\u001b[0m\n\u001b[0;32m    578\u001b[0m                 \u001b[0mself\u001b[0m\u001b[1;33m.\u001b[0m\u001b[0m_timeout_occurred\u001b[0m \u001b[1;33m=\u001b[0m \u001b[1;32mTrue\u001b[0m\u001b[1;33m\u001b[0m\u001b[0m\n",
      "\u001b[1;31mKeyboardInterrupt\u001b[0m: "
     ]
    }
   ],
   "source": [
    "toBeRecommend=sc.textFile('target_user.csv').filter(lambda x: \"userId\" not in x).collect()\n",
    "f=open(\"predictions.csv\",'w')\n",
    "i=0\n",
    "for user in toBeRecommend:\n",
    "    f.write(user+',')\n",
    "    recommended=recommendedProduct(int(user),True)\n",
    "    for prod in recommended:\n",
    "        f.write(str(prod)+' ')\n",
    "    f.write('\\n')\n",
    "    i=i+1\n",
    "    print(i,\"of\", len(toBeRecommend), \"written\")\n",
    "f.close()"
   ]
  },
  {
   "cell_type": "code",
   "execution_count": null,
   "metadata": {
    "collapsed": true
   },
   "outputs": [],
   "source": []
  }
 ],
 "metadata": {
  "kernelspec": {
   "display_name": "Python 3",
   "language": "python",
   "name": "python3"
  },
  "language_info": {
   "codemirror_mode": {
    "name": "ipython",
    "version": 3
   },
   "file_extension": ".py",
   "mimetype": "text/x-python",
   "name": "python",
   "nbconvert_exporter": "python",
   "pygments_lexer": "ipython3",
   "version": "3.5.3"
  }
 },
 "nbformat": 4,
 "nbformat_minor": 2
}
