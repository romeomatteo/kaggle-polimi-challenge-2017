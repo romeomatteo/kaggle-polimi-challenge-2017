{
 "cells": [
  {
   "cell_type": "code",
   "execution_count": 1,
   "metadata": {
    "collapsed": true
   },
   "outputs": [],
   "source": [
    "from pyspark import SparkContext\n",
    "from pyspark.sql import SparkSession\n",
    "import numpy as np\n",
    "from scipy.sparse import *\n",
    "sc = SparkContext.getOrCreate()\n",
    "spark = SparkSession(sc)"
   ]
  },
  {
   "cell_type": "code",
   "execution_count": 2,
   "metadata": {
    "collapsed": true
   },
   "outputs": [],
   "source": [
    "#ICM Load\n",
    "icm = sc.textFile(\"../icm.csv\")\n",
    "icm = icm.map(lambda l: l.split(','))\\\n",
    "            .filter(lambda line: line[0] != 'itemId')\\\n",
    "            .map(lambda x: (int(x[0]), int(x[1]), 1))"
   ]
  },
  {
   "cell_type": "code",
   "execution_count": 3,
   "metadata": {
    "collapsed": true
   },
   "outputs": [],
   "source": [
    "#Trainset Load\n",
    "trainSet = sc.textFile(\"../train.csv\")\n",
    "trainSet = trainSet.map(lambda l: l.split(','))\n",
    "trainSet = trainSet.filter(lambda line: 'userId' not in line)\n",
    "trainSet = trainSet.map(lambda line: (int(line[0]), int(line[1]), int(line[2])))"
   ]
  },
  {
   "cell_type": "code",
   "execution_count": 4,
   "metadata": {
    "collapsed": true
   },
   "outputs": [],
   "source": [
    "#Target users load\n",
    "targetUsers = sc.textFile(\"../target_user.csv\").filter(lambda x: \"userId\" not in x).map(lambda x: int(x))\n",
    "targets=targetUsers.collect()"
   ]
  },
  {
   "cell_type": "code",
   "execution_count": 5,
   "metadata": {
    "collapsed": true
   },
   "outputs": [],
   "source": [
    "#FOR THE TOP POP\n",
    "itemSet = trainSet.map(lambda x: (x[1], x[2]))\n",
    "itemsCount = trainSet.map(lambda x: (x[1],1)).reduceByKey(lambda x,y : x + y)\n",
    "itemsCount_dict = itemsCount.collectAsMap()\n",
    "#-----------------------------------------\n",
    "featureFreq = icm.map(lambda x: (x[1],1)).reduceByKey(lambda x, y: x + y)\n",
    "featureFreqDict = featureFreq.collectAsMap()\n",
    "prodCount= icm.map(lambda x: x[0]).distinct().count()\n",
    "featureIdf = featureFreq.map(lambda x: (x[0],np.log10(prodCount/x[1])))\n",
    "featureIdfDict = featureIdf.collectAsMap()"
   ]
  },
  {
   "cell_type": "code",
   "execution_count": 6,
   "metadata": {
    "collapsed": true
   },
   "outputs": [],
   "source": [
    "norms = icm.map(lambda x: (x[0],1))\\\n",
    "                .reduceByKey(lambda x, y: x+y).mapValues(lambda x: np.sqrt(x))\\\n",
    "                .collectAsMap()\n",
    "normalized = icm.map(lambda x: (x[0], x[1], x[2]/norms[x[0]]))"
   ]
  },
  {
   "cell_type": "code",
   "execution_count": 7,
   "metadata": {},
   "outputs": [
    {
     "name": "stdout",
     "output_type": "stream",
     "text": [
      "46750\n",
      "userItem shape: (15365, 37143)\n",
      "itemFeat shape: (37143, 19716)\n"
     ]
    }
   ],
   "source": [
    "#Just consider the row of the users to predict\n",
    "#IF you0re asking, only the idf depends on all the training set, in fact it is computed before reducing the trainset\n",
    "trainSet=trainSet.filter(lambda x: x[0] in targets)\n",
    "print(trainSet.count())\n",
    "data = trainSet.map(lambda x: x[2]).collect()\n",
    "rows = trainSet.map(lambda x: x[0]).collect()\n",
    "cols = trainSet.map(lambda x: x[1]).collect()\n",
    "data.append(0)\n",
    "rows.append(15364)\n",
    "cols.append(37142)\n",
    "userItem=csr_matrix((data,(rows,cols)))\n",
    "print(\"userItem shape:\",userItem.shape)\n",
    "data = normalized.map(lambda x: x[2]).collect()\n",
    "rows = normalized.map(lambda x: x[0]).collect()\n",
    "cols = normalized.map(lambda x: x[1]).collect()\n",
    "data.append(0)\n",
    "rows.append(37142)\n",
    "cols.append(80)\n",
    "itemFeature = csc_matrix((data,(rows,cols)))\n",
    "print(\"itemFeat shape:\",itemFeature.shape)"
   ]
  },
  {
   "cell_type": "markdown",
   "metadata": {},
   "source": [
    "# Let's test some normalization tecnique"
   ]
  },
  {
   "cell_type": "code",
   "execution_count": null,
   "metadata": {
    "collapsed": true
   },
   "outputs": [],
   "source": []
  }
 ],
 "metadata": {
  "kernelspec": {
   "display_name": "py35-spark",
   "language": "python",
   "name": "py35"
  },
  "language_info": {
   "codemirror_mode": {
    "name": "ipython",
    "version": 3
   },
   "file_extension": ".py",
   "mimetype": "text/x-python",
   "name": "python",
   "nbconvert_exporter": "python",
   "pygments_lexer": "ipython3",
   "version": "3.5.3"
  }
 },
 "nbformat": 4,
 "nbformat_minor": 2
}
