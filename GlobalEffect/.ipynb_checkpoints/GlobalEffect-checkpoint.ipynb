{
 "cells": [
  {
   "cell_type": "code",
   "execution_count": 1,
   "metadata": {
    "collapsed": true
   },
   "outputs": [],
   "source": [
    "from pyspark import SparkContext\n",
    "import numpy as np\n",
    "sc = SparkContext.getOrCreate()"
   ]
  },
  {
   "cell_type": "code",
   "execution_count": 10,
   "metadata": {},
   "outputs": [
    {
     "data": {
      "text/plain": [
       "[(2738, 1, 1), (4716, 1, 4), (13298, 1, 8), (15122, 1, 4), (11326, 2, 5)]"
      ]
     },
     "execution_count": 10,
     "metadata": {},
     "output_type": "execute_result"
    }
   ],
   "source": [
    "trainSet = sc.textFile(\"../train.csv\")\n",
    "trainSet = trainSet.map(lambda l: l.split(','))\\\n",
    "                    .filter(lambda x: 'userId' not in x)\\\n",
    "                    .map(lambda x: (int(x[0]), int(x[1]), int(x[2])))\n",
    "trainSet.take(5)"
   ]
  },
  {
   "cell_type": "code",
   "execution_count": 15,
   "metadata": {},
   "outputs": [
    {
     "name": "stdout",
     "output_type": "stream",
     "text": [
      "Global bias:  6.8188763965700625\n"
     ]
    }
   ],
   "source": [
    "globalBias = trainSet.map(lambda x: x[2]).mean()\n",
    "print(\"Global bias: \",globalBias)"
   ]
  },
  {
   "cell_type": "code",
   "execution_count": 17,
   "metadata": {},
   "outputs": [
    {
     "data": {
      "text/plain": [
       "[(2738, 1, -5.8188763965700625),\n",
       " (4716, 1, -2.8188763965700625),\n",
       " (13298, 1, 1.1811236034299375),\n",
       " (15122, 1, -2.8188763965700625),\n",
       " (11326, 2, -1.8188763965700625)]"
      ]
     },
     "execution_count": 17,
     "metadata": {},
     "output_type": "execute_result"
    }
   ],
   "source": [
    "trainSetR2 = trainSet.map(lambda x: (int(x[0]), int(x[1]), int(x[2]) - globalBias))\n",
    "trainSetR2.take(5)"
   ]
  },
  {
   "cell_type": "code",
   "execution_count": 19,
   "metadata": {},
   "outputs": [
    {
     "data": {
      "text/plain": [
       "[(1, -5.8188763965700625),\n",
       " (1, -2.8188763965700625),\n",
       " (1, 1.1811236034299375),\n",
       " (1, -2.8188763965700625),\n",
       " (2, -1.8188763965700625)]"
      ]
     },
     "execution_count": 19,
     "metadata": {},
     "output_type": "execute_result"
    }
   ],
   "source": [
    "itemSet = trainSetR2.map(lambda x: (x[1], x[2]))\n",
    "itemSet.take(5)"
   ]
  },
  {
   "cell_type": "code",
   "execution_count": 28,
   "metadata": {},
   "outputs": [],
   "source": [
    "cost = 7\n",
    "itemCount = itemSet.map(lambda x: (x[0], 1)).reduceByKey(lambda x, y: x + y)\n",
    "itemCountDict = itemCount.collectAsMap()\n",
    "itemSetBias = itemSet.reduceByKey(lambda x, y: x + y)\\\n",
    "                            .map(lambda x: (x[0], x[1]/(itemCountDict[x[0]]+cost)))\n",
    "itemSetBiasDict = itemSetBias.collectAsMap()"
   ]
  },
  {
   "cell_type": "code",
   "execution_count": 29,
   "metadata": {},
   "outputs": [
    {
     "data": {
      "text/plain": [
       "[(2738, 1, -4.88473952509004),\n",
       " (4716, 1, -1.8847395250900396),\n",
       " (13298, 1, 2.1152604749099604),\n",
       " (15122, 1, -1.8847395250900396),\n",
       " (11326, 2, -1.5915168469988048)]"
      ]
     },
     "execution_count": 29,
     "metadata": {},
     "output_type": "execute_result"
    }
   ],
   "source": [
    "trainSetR3 = trainSetR2.map(lambda x: (x[0], x[1], x[2] - itemSetBiasDict[x[1]]))\n",
    "trainSetR3.take(5)"
   ]
  },
  {
   "cell_type": "code",
   "execution_count": 37,
   "metadata": {},
   "outputs": [
    {
     "data": {
      "text/plain": [
       "[(2, -0.2454719099142516),\n",
       " (4, 0.31328785880246485),\n",
       " (8, 0.627468916804455),\n",
       " (10, -0.10493616143742794),\n",
       " (12, 0.4634040796051744)]"
      ]
     },
     "execution_count": 37,
     "metadata": {},
     "output_type": "execute_result"
    }
   ],
   "source": [
    "userSet = trainSetR3.map(lambda x: (x[0], x[2]))\n",
    "userCount = userSet.map(lambda x: (x[0], 1)).reduceByKey(lambda x, y: x + y)\n",
    "userCountDict = userCount.collectAsMap()\n",
    "userSetBias = userSet.reduceByKey(lambda x, y: x + y)\\\n",
    "                            .map(lambda x: (x[0], x[1]/(userCountDict[x[0]]+cost)))\n",
    "userSetBiasDict = userSetBias.collectAsMap()\n",
    "userSetBias.take(5)"
   ]
  },
  {
   "cell_type": "code",
   "execution_count": 39,
   "metadata": {},
   "outputs": [],
   "source": [
    "numberOfRecommendations = 5\n",
    "itemSetArray = np.array(itemCount.map(lambda x: x[0]).collect())\n",
    "\n",
    "seenItems= trainSet.map(lambda x: (x[0],[x[1]])).reduceByKey(lambda x,y: x + y)\n",
    "seenItemsDict=seenItems.collectAsMap()\n",
    "\n",
    "def recommendUser(userId):\n",
    "    bias1= globalBias + userSetBiasDict[userId]\n",
    "    recommendedItems = []\n",
    "    for item in itemSetArray:\n",
    "        rank = bias1 + itemSetBiasDict[item]\n",
    "        if item not in seenItemsDict[userId]:\n",
    "            if len(recommendedItems) < numberOfRecommendations:\n",
    "                recommendedItems.append((item, rank))\n",
    "            else:\n",
    "                minRank = min(recommendedItems, key = lambda t: t[1])\n",
    "                if rank > minRank[1]:\n",
    "                    recommendedItems = filter(recommendedItems, lambda x: x[0] != minRank[0])\n",
    "                    recommendedItems.append((item, rank))\n"
   ]
  },
  {
   "cell_type": "code",
   "execution_count": null,
   "metadata": {
    "collapsed": true
   },
   "outputs": [],
   "source": []
  }
 ],
 "metadata": {
  "kernelspec": {
   "display_name": "Python 3",
   "language": "python",
   "name": "python3"
  },
  "language_info": {
   "codemirror_mode": {
    "name": "ipython",
    "version": 3
   },
   "file_extension": ".py",
   "mimetype": "text/x-python",
   "name": "python",
   "nbconvert_exporter": "python",
   "pygments_lexer": "ipython3",
   "version": "3.5.3"
  }
 },
 "nbformat": 4,
 "nbformat_minor": 2
}
