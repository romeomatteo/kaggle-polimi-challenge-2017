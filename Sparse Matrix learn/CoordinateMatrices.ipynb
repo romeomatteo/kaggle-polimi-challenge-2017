{
 "cells": [
  {
   "cell_type": "code",
   "execution_count": 1,
   "metadata": {},
   "outputs": [],
   "source": [
    "from pyspark import SparkContext\n",
    "from pyspark.sql import SparkSession\n",
    "import numpy as np\n",
    "from pyspark.mllib.linalg.distributed import *\n",
    "sc = SparkContext.getOrCreate()\n",
    "spark = SparkSession(sc)"
   ]
  },
  {
   "cell_type": "code",
   "execution_count": 2,
   "metadata": {},
   "outputs": [
    {
     "data": {
      "text/plain": [
       "[(2738, 1, 1), (4716, 1, 4), (13298, 1, 8), (15122, 1, 4), (11326, 2, 5)]"
      ]
     },
     "execution_count": 2,
     "metadata": {},
     "output_type": "execute_result"
    }
   ],
   "source": [
    "trainSet = sc.textFile(\"../train.csv\")\n",
    "trainSet = trainSet.map(lambda l: l.split(','))\n",
    "trainSet = trainSet.filter(lambda line: 'userId' not in line)\n",
    "trainSet = trainSet.map(lambda line: (int(line[0]), int(line[1]), int(line[2])))\n",
    "trainSet.take(5)"
   ]
  },
  {
   "cell_type": "code",
   "execution_count": 3,
   "metadata": {
    "collapsed": true
   },
   "outputs": [],
   "source": [
    "mat=CoordinateMatrix(trainSet)"
   ]
  },
  {
   "cell_type": "code",
   "execution_count": 4,
   "metadata": {
    "collapsed": true
   },
   "outputs": [],
   "source": [
    "indexedRowfromCoordMat=mat.toIndexedRowMatrix()"
   ]
  },
  {
   "cell_type": "code",
   "execution_count": 6,
   "metadata": {},
   "outputs": [],
   "source": [
    "cs=indexedRowfromCoordMat.columnSimilarities()\n",
    "cs.entries.saveAsTextFile(\"itemSimilarities\")"
   ]
  },
  {
   "cell_type": "markdown",
   "metadata": {},
   "source": [
    "itemSimilarities = sc.textFile(\"itemSimilarities/\")\n",
    "itemSimilarities.count()"
   ]
  },
  {
   "cell_type": "code",
   "execution_count": 21,
   "metadata": {},
   "outputs": [],
   "source": [
    "cs1 = cs.entries.filter(lambda x: x.i == 35599)"
   ]
  },
  {
   "cell_type": "code",
   "execution_count": 35,
   "metadata": {},
   "outputs": [
    {
     "data": {
      "text/plain": [
       "['12368, 26377, 0.34001020045902297',\n",
       " '133, 18648, 0.029826529048348538',\n",
       " '17975, 36399, 0.14744604466668038',\n",
       " '15573, 16221, 0.15482392825253707',\n",
       " '32286, 32571, 0.13459547551454137']"
      ]
     },
     "execution_count": 35,
     "metadata": {},
     "output_type": "execute_result"
    }
   ],
   "source": [
    "csrdd = cs.entries.map(lambda x: \"{}, {}, {}\".format(x.i, x.j, x.value))\n",
    "csrdd.take(5)"
   ]
  },
  {
   "cell_type": "code",
   "execution_count": 36,
   "metadata": {
    "collapsed": true
   },
   "outputs": [],
   "source": [
    "prova = csrdd.saveAsTextFile(\"itemSimil\")"
   ]
  },
  {
   "cell_type": "code",
   "execution_count": 45,
   "metadata": {},
   "outputs": [
    {
     "data": {
      "text/plain": [
       "278834"
      ]
     },
     "execution_count": 45,
     "metadata": {},
     "output_type": "execute_result"
    }
   ],
   "source": [
    "text = sc.textFile(\"itemSimil/\")\n",
    "text = text.map(lambda x: tuple( x.split(','))).map(lambda x: (int(x[0]),int(x[1]),float(x[2])))\n",
    "highSimilarities = text.filter(lambda x: x[2]==1)\n",
    "highSimilarities.count()"
   ]
  },
  {
   "cell_type": "code",
   "execution_count": 46,
   "metadata": {},
   "outputs": [
    {
     "data": {
      "text/plain": [
       "[(1, 2738, 1), (1, 4716, 4), (1, 13298, 8), (1, 15122, 4), (2, 11326, 5)]"
      ]
     },
     "execution_count": 46,
     "metadata": {},
     "output_type": "execute_result"
    }
   ],
   "source": [
    "trainSet2 = trainSet.map(lambda x: (x[1], x[0], x[2]))\n",
    "trainSet2.take(5)"
   ]
  },
  {
   "cell_type": "code",
   "execution_count": 48,
   "metadata": {
    "collapsed": true
   },
   "outputs": [],
   "source": [
    "matUser = CoordinateMatrix(trainSet2)\n",
    "indexedRowMatUser = matUser.toIndexedRowMatrix()\n",
    "userCs = indexedRowMatUser.columnSimilarities()\n",
    "userCsRdd = userCs.entries.map(lambda x: \"{}, {}, {}\".format(x.i, x.j, x.value))\n",
    "userCsRdd.saveAsTextFile(\"UserSim\")"
   ]
  },
  {
   "cell_type": "code",
   "execution_count": 51,
   "metadata": {},
   "outputs": [
    {
     "data": {
      "text/plain": [
       "1534600"
      ]
     },
     "execution_count": 51,
     "metadata": {},
     "output_type": "execute_result"
    }
   ],
   "source": [
    "simUser = sc.textFile(\"UserSim/\")\n",
    "simUser.count()"
   ]
  },
  {
   "cell_type": "code",
   "execution_count": 59,
   "metadata": {},
   "outputs": [
    {
     "data": {
      "text/plain": [
       "[(1, 6356, 0.06968155546148419),\n",
       " (1, 7790, 0.038236904608999804),\n",
       " (1, 7932, 0.06170221091733459),\n",
       " (1, 950, 0.03712555380137589),\n",
       " (1, 6551, 0.030702086603900267)]"
      ]
     },
     "execution_count": 59,
     "metadata": {},
     "output_type": "execute_result"
    }
   ],
   "source": [
    "userSimilarities = simUser.map(lambda x: tuple( x.split(','))).map(lambda x: (int(x[0]),int(x[1]),float(x[2])))\n",
    "sim1 = userSimilarities.filter(lambda x: x[2]!=1)\n",
    "userSimilaritiesOrdered = userSimilarities.sortBy(lambda x: x[0])\n",
    "userSimilaritiesOrdered.take(5)"
   ]
  },
  {
   "cell_type": "code",
   "execution_count": 60,
   "metadata": {
    "collapsed": true
   },
   "outputs": [],
   "source": [
    "userSimilaritiesOrdered.saveAsTextFile(\"userSimOrdered\")"
   ]
  },
  {
   "cell_type": "code",
   "execution_count": null,
   "metadata": {
    "collapsed": true
   },
   "outputs": [],
   "source": []
  }
 ],
 "metadata": {
  "kernelspec": {
   "display_name": "Python 3",
   "language": "python",
   "name": "python3"
  },
  "language_info": {
   "codemirror_mode": {
    "name": "ipython",
    "version": 3
   },
   "file_extension": ".py",
   "mimetype": "text/x-python",
   "name": "python",
   "nbconvert_exporter": "python",
   "pygments_lexer": "ipython3",
   "version": "3.5.3"
  }
 },
 "nbformat": 4,
 "nbformat_minor": 2
}
